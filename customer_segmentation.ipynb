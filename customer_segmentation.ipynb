{
 "cells": [
  {
   "cell_type": "code",
   "execution_count": 115,
   "id": "b488303e-93ed-46e4-b58c-207c22ea8d32",
   "metadata": {},
   "outputs": [],
   "source": [
    "# importing python libraries for analysis\n",
    "import pandas as pd\n",
    "import numpy as np\n",
    "from matplotlib import pyplot as plt\n",
    "import openpyxl"
   ]
  },
  {
   "cell_type": "code",
   "execution_count": 116,
   "id": "d0ba8be5-9d4e-40c0-a7b1-e508106fc2a6",
   "metadata": {},
   "outputs": [],
   "source": [
    "# Show all columns(instead of cascading columns in the middle)\n",
    "pd.set_option(\"display.max_columns\",None)\n",
    "# Don't show numbers in scientific notation\n",
    "pd.set_option(\"display.float_format\",\"{:.2f}\".format)"
   ]
  },
  {
   "cell_type": "code",
   "execution_count": 117,
   "id": "82a8e62b-4f54-4c6e-8b8f-f55eb87dd3cd",
   "metadata": {},
   "outputs": [],
   "source": [
    "# reading the csv and xlsx file\n",
    "df_customer = pd.read_csv(\"QVI_purchase_behaviour.csv\")\n",
    "df_transactions =pd.read_excel(\"QVI_transaction_data.xlsx\")\n"
   ]
  },
  {
   "cell_type": "code",
   "execution_count": 118,
   "id": "41205b2f-ea46-4738-add3-b811e7537e1d",
   "metadata": {},
   "outputs": [],
   "source": [
    "# Converting excel data with pandas\n",
    "df_transactions['DATE'] = pd.to_datetime(df_transactions['DATE'], unit='d', origin='1899-12-30')"
   ]
  },
  {
   "cell_type": "code",
   "execution_count": 119,
   "id": "65eea37a-bd90-40ad-abb2-27eb29661ae0",
   "metadata": {},
   "outputs": [
    {
     "data": {
      "text/html": [
       "<div>\n",
       "<style scoped>\n",
       "    .dataframe tbody tr th:only-of-type {\n",
       "        vertical-align: middle;\n",
       "    }\n",
       "\n",
       "    .dataframe tbody tr th {\n",
       "        vertical-align: top;\n",
       "    }\n",
       "\n",
       "    .dataframe thead th {\n",
       "        text-align: right;\n",
       "    }\n",
       "</style>\n",
       "<table border=\"1\" class=\"dataframe\">\n",
       "  <thead>\n",
       "    <tr style=\"text-align: right;\">\n",
       "      <th></th>\n",
       "      <th>LYLTY_CARD_NBR</th>\n",
       "      <th>LIFESTAGE</th>\n",
       "      <th>PREMIUM_CUSTOMER</th>\n",
       "    </tr>\n",
       "  </thead>\n",
       "  <tbody>\n",
       "    <tr>\n",
       "      <th>0</th>\n",
       "      <td>1000</td>\n",
       "      <td>YOUNG SINGLES/COUPLES</td>\n",
       "      <td>Premium</td>\n",
       "    </tr>\n",
       "    <tr>\n",
       "      <th>1</th>\n",
       "      <td>1002</td>\n",
       "      <td>YOUNG SINGLES/COUPLES</td>\n",
       "      <td>Mainstream</td>\n",
       "    </tr>\n",
       "    <tr>\n",
       "      <th>2</th>\n",
       "      <td>1003</td>\n",
       "      <td>YOUNG FAMILIES</td>\n",
       "      <td>Budget</td>\n",
       "    </tr>\n",
       "    <tr>\n",
       "      <th>3</th>\n",
       "      <td>1004</td>\n",
       "      <td>OLDER SINGLES/COUPLES</td>\n",
       "      <td>Mainstream</td>\n",
       "    </tr>\n",
       "    <tr>\n",
       "      <th>4</th>\n",
       "      <td>1005</td>\n",
       "      <td>MIDAGE SINGLES/COUPLES</td>\n",
       "      <td>Mainstream</td>\n",
       "    </tr>\n",
       "  </tbody>\n",
       "</table>\n",
       "</div>"
      ],
      "text/plain": [
       "   LYLTY_CARD_NBR               LIFESTAGE PREMIUM_CUSTOMER\n",
       "0            1000   YOUNG SINGLES/COUPLES          Premium\n",
       "1            1002   YOUNG SINGLES/COUPLES       Mainstream\n",
       "2            1003          YOUNG FAMILIES           Budget\n",
       "3            1004   OLDER SINGLES/COUPLES       Mainstream\n",
       "4            1005  MIDAGE SINGLES/COUPLES       Mainstream"
      ]
     },
     "execution_count": 119,
     "metadata": {},
     "output_type": "execute_result"
    }
   ],
   "source": [
    "#Displaying the data\n",
    "df_customer.head(5)"
   ]
  },
  {
   "cell_type": "code",
   "execution_count": 120,
   "id": "c91c89be-d37e-4d58-972d-2b78ba0f34c0",
   "metadata": {},
   "outputs": [
    {
     "data": {
      "text/html": [
       "<div>\n",
       "<style scoped>\n",
       "    .dataframe tbody tr th:only-of-type {\n",
       "        vertical-align: middle;\n",
       "    }\n",
       "\n",
       "    .dataframe tbody tr th {\n",
       "        vertical-align: top;\n",
       "    }\n",
       "\n",
       "    .dataframe thead th {\n",
       "        text-align: right;\n",
       "    }\n",
       "</style>\n",
       "<table border=\"1\" class=\"dataframe\">\n",
       "  <thead>\n",
       "    <tr style=\"text-align: right;\">\n",
       "      <th></th>\n",
       "      <th>DATE</th>\n",
       "      <th>STORE_NBR</th>\n",
       "      <th>LYLTY_CARD_NBR</th>\n",
       "      <th>TXN_ID</th>\n",
       "      <th>PROD_NBR</th>\n",
       "      <th>PROD_NAME</th>\n",
       "      <th>PROD_QTY</th>\n",
       "      <th>TOT_SALES</th>\n",
       "    </tr>\n",
       "  </thead>\n",
       "  <tbody>\n",
       "    <tr>\n",
       "      <th>0</th>\n",
       "      <td>2018-10-17</td>\n",
       "      <td>1</td>\n",
       "      <td>1000</td>\n",
       "      <td>1</td>\n",
       "      <td>5</td>\n",
       "      <td>Natural Chip        Compny SeaSalt175g</td>\n",
       "      <td>2</td>\n",
       "      <td>6.00</td>\n",
       "    </tr>\n",
       "    <tr>\n",
       "      <th>1</th>\n",
       "      <td>2019-05-14</td>\n",
       "      <td>1</td>\n",
       "      <td>1307</td>\n",
       "      <td>348</td>\n",
       "      <td>66</td>\n",
       "      <td>CCs Nacho Cheese    175g</td>\n",
       "      <td>3</td>\n",
       "      <td>6.30</td>\n",
       "    </tr>\n",
       "    <tr>\n",
       "      <th>2</th>\n",
       "      <td>2019-05-20</td>\n",
       "      <td>1</td>\n",
       "      <td>1343</td>\n",
       "      <td>383</td>\n",
       "      <td>61</td>\n",
       "      <td>Smiths Crinkle Cut  Chips Chicken 170g</td>\n",
       "      <td>2</td>\n",
       "      <td>2.90</td>\n",
       "    </tr>\n",
       "    <tr>\n",
       "      <th>3</th>\n",
       "      <td>2018-08-17</td>\n",
       "      <td>2</td>\n",
       "      <td>2373</td>\n",
       "      <td>974</td>\n",
       "      <td>69</td>\n",
       "      <td>Smiths Chip Thinly  S/Cream&amp;Onion 175g</td>\n",
       "      <td>5</td>\n",
       "      <td>15.00</td>\n",
       "    </tr>\n",
       "    <tr>\n",
       "      <th>4</th>\n",
       "      <td>2018-08-18</td>\n",
       "      <td>2</td>\n",
       "      <td>2426</td>\n",
       "      <td>1038</td>\n",
       "      <td>108</td>\n",
       "      <td>Kettle Tortilla ChpsHny&amp;Jlpno Chili 150g</td>\n",
       "      <td>3</td>\n",
       "      <td>13.80</td>\n",
       "    </tr>\n",
       "  </tbody>\n",
       "</table>\n",
       "</div>"
      ],
      "text/plain": [
       "        DATE  STORE_NBR  LYLTY_CARD_NBR  TXN_ID  PROD_NBR  \\\n",
       "0 2018-10-17          1            1000       1         5   \n",
       "1 2019-05-14          1            1307     348        66   \n",
       "2 2019-05-20          1            1343     383        61   \n",
       "3 2018-08-17          2            2373     974        69   \n",
       "4 2018-08-18          2            2426    1038       108   \n",
       "\n",
       "                                  PROD_NAME  PROD_QTY  TOT_SALES  \n",
       "0    Natural Chip        Compny SeaSalt175g         2       6.00  \n",
       "1                  CCs Nacho Cheese    175g         3       6.30  \n",
       "2    Smiths Crinkle Cut  Chips Chicken 170g         2       2.90  \n",
       "3    Smiths Chip Thinly  S/Cream&Onion 175g         5      15.00  \n",
       "4  Kettle Tortilla ChpsHny&Jlpno Chili 150g         3      13.80  "
      ]
     },
     "execution_count": 120,
     "metadata": {},
     "output_type": "execute_result"
    }
   ],
   "source": [
    "df_transactions.head(5)"
   ]
  },
  {
   "cell_type": "code",
   "execution_count": 121,
   "id": "2421d1e6-8cb2-4247-ab6a-0a8199a8566f",
   "metadata": {},
   "outputs": [],
   "source": [
    "#list of top selling products.\n",
    "sales = df_transactions.groupby('PROD_NAME')['TOT_SALES'].sum() "
   ]
  },
  {
   "cell_type": "code",
   "execution_count": 122,
   "id": "df242841-1af8-4524-a3d9-a28ce926cde5",
   "metadata": {},
   "outputs": [
    {
     "data": {
      "text/plain": [
       "PROD_NAME\n",
       "Burger Rings 220g                        6831.00\n",
       "CCs Nacho Cheese    175g                 5961.90\n",
       "CCs Original 175g                        6048.00\n",
       "CCs Tasty Cheese    175g                 6069.00\n",
       "Cheetos Chs & Bacon Balls 190g           9243.30\n",
       "                                           ...  \n",
       "WW Sour Cream &OnionStacked Chips 160g   5323.80\n",
       "WW Supreme Cheese   Corn Chips 200g      5390.30\n",
       "Woolworths Cheese   Rings 190g           5169.60\n",
       "Woolworths Medium   Salsa 300g           4050.00\n",
       "Woolworths Mild     Salsa 300g           4234.50\n",
       "Name: TOT_SALES, Length: 114, dtype: float64"
      ]
     },
     "execution_count": 122,
     "metadata": {},
     "output_type": "execute_result"
    }
   ],
   "source": [
    "sales"
   ]
  },
  {
   "cell_type": "code",
   "execution_count": 123,
   "id": "6f318698-78d7-4385-92d4-7e8cf1d81e7f",
   "metadata": {},
   "outputs": [
    {
     "name": "stdout",
     "output_type": "stream",
     "text": [
      "<class 'pandas.core.frame.DataFrame'>\n",
      "RangeIndex: 72637 entries, 0 to 72636\n",
      "Data columns (total 3 columns):\n",
      " #   Column            Non-Null Count  Dtype \n",
      "---  ------            --------------  ----- \n",
      " 0   LYLTY_CARD_NBR    72637 non-null  int64 \n",
      " 1   LIFESTAGE         72637 non-null  object\n",
      " 2   PREMIUM_CUSTOMER  72637 non-null  object\n",
      "dtypes: int64(1), object(2)\n",
      "memory usage: 1.7+ MB\n"
     ]
    }
   ],
   "source": [
    "#Printing column names, types, and non-null values\n",
    "df_customer.info(verbose = True, show_counts=True)"
   ]
  },
  {
   "cell_type": "code",
   "execution_count": 124,
   "id": "42cc3c55-03f7-437d-b61c-81ffd93198fe",
   "metadata": {},
   "outputs": [
    {
     "name": "stdout",
     "output_type": "stream",
     "text": [
      "<class 'pandas.core.frame.DataFrame'>\n",
      "RangeIndex: 264836 entries, 0 to 264835\n",
      "Data columns (total 8 columns):\n",
      " #   Column          Non-Null Count   Dtype         \n",
      "---  ------          --------------   -----         \n",
      " 0   DATE            264836 non-null  datetime64[ns]\n",
      " 1   STORE_NBR       264836 non-null  int64         \n",
      " 2   LYLTY_CARD_NBR  264836 non-null  int64         \n",
      " 3   TXN_ID          264836 non-null  int64         \n",
      " 4   PROD_NBR        264836 non-null  int64         \n",
      " 5   PROD_NAME       264836 non-null  object        \n",
      " 6   PROD_QTY        264836 non-null  int64         \n",
      " 7   TOT_SALES       264836 non-null  float64       \n",
      "dtypes: datetime64[ns](1), float64(1), int64(5), object(1)\n",
      "memory usage: 16.2+ MB\n"
     ]
    }
   ],
   "source": [
    "#Printing column names, types, and non-null values\n",
    "df_transactions.info(verbose = True, show_counts=True)"
   ]
  },
  {
   "cell_type": "code",
   "execution_count": 125,
   "id": "c960b51a-0915-4cab-8618-2a5d8cc1cab7",
   "metadata": {},
   "outputs": [
    {
     "data": {
      "text/plain": [
       "(72637, 3)"
      ]
     },
     "execution_count": 125,
     "metadata": {},
     "output_type": "execute_result"
    }
   ],
   "source": [
    "df_customer.shape"
   ]
  },
  {
   "cell_type": "code",
   "execution_count": 126,
   "id": "6d0997a6-3cf9-4ca5-9ca0-e68295dfd127",
   "metadata": {},
   "outputs": [
    {
     "data": {
      "text/plain": [
       "(264836, 8)"
      ]
     },
     "execution_count": 126,
     "metadata": {},
     "output_type": "execute_result"
    }
   ],
   "source": [
    "df_transactions.shape"
   ]
  },
  {
   "cell_type": "code",
   "execution_count": 127,
   "id": "bfa8b3ad-b135-48be-9e57-eaaf6bbc7d03",
   "metadata": {},
   "outputs": [
    {
     "data": {
      "text/plain": [
       "0"
      ]
     },
     "execution_count": 127,
     "metadata": {},
     "output_type": "execute_result"
    }
   ],
   "source": [
    "#looking for duplicates in customer data\n",
    "df_customer.duplicated().sum()"
   ]
  },
  {
   "cell_type": "code",
   "execution_count": 128,
   "id": "c7b3441c-9711-4dbb-a0c9-4067808c9e0e",
   "metadata": {},
   "outputs": [
    {
     "data": {
      "text/plain": [
       "1"
      ]
     },
     "execution_count": 128,
     "metadata": {},
     "output_type": "execute_result"
    }
   ],
   "source": [
    "#looking for duplicates in the dataframe for transactions\n",
    "df_transactions.duplicated().sum()"
   ]
  },
  {
   "cell_type": "code",
   "execution_count": 129,
   "id": "a6fb839d-ad8a-417a-b075-69d96d0260b1",
   "metadata": {},
   "outputs": [
    {
     "data": {
      "text/html": [
       "<div>\n",
       "<style scoped>\n",
       "    .dataframe tbody tr th:only-of-type {\n",
       "        vertical-align: middle;\n",
       "    }\n",
       "\n",
       "    .dataframe tbody tr th {\n",
       "        vertical-align: top;\n",
       "    }\n",
       "\n",
       "    .dataframe thead th {\n",
       "        text-align: right;\n",
       "    }\n",
       "</style>\n",
       "<table border=\"1\" class=\"dataframe\">\n",
       "  <thead>\n",
       "    <tr style=\"text-align: right;\">\n",
       "      <th></th>\n",
       "      <th>DATE</th>\n",
       "      <th>STORE_NBR</th>\n",
       "      <th>LYLTY_CARD_NBR</th>\n",
       "      <th>TXN_ID</th>\n",
       "      <th>PROD_NBR</th>\n",
       "      <th>PROD_NAME</th>\n",
       "      <th>PROD_QTY</th>\n",
       "      <th>TOT_SALES</th>\n",
       "    </tr>\n",
       "  </thead>\n",
       "  <tbody>\n",
       "    <tr>\n",
       "      <th>124845</th>\n",
       "      <td>2018-10-01</td>\n",
       "      <td>107</td>\n",
       "      <td>107024</td>\n",
       "      <td>108462</td>\n",
       "      <td>45</td>\n",
       "      <td>Smiths Thinly Cut   Roast Chicken 175g</td>\n",
       "      <td>2</td>\n",
       "      <td>6.00</td>\n",
       "    </tr>\n",
       "  </tbody>\n",
       "</table>\n",
       "</div>"
      ],
      "text/plain": [
       "             DATE  STORE_NBR  LYLTY_CARD_NBR  TXN_ID  PROD_NBR  \\\n",
       "124845 2018-10-01        107          107024  108462        45   \n",
       "\n",
       "                                     PROD_NAME  PROD_QTY  TOT_SALES  \n",
       "124845  Smiths Thinly Cut   Roast Chicken 175g         2       6.00  "
      ]
     },
     "execution_count": 129,
     "metadata": {},
     "output_type": "execute_result"
    }
   ],
   "source": [
    "# identifying the duplicates\n",
    "df_transactions.loc[df_transactions.duplicated(keep = 'first'),:]"
   ]
  },
  {
   "cell_type": "code",
   "execution_count": 130,
   "id": "bfc31e4f-236d-42d0-becd-7133a1b030ac",
   "metadata": {},
   "outputs": [
    {
     "data": {
      "text/plain": [
       "(264835, 8)"
      ]
     },
     "execution_count": 130,
     "metadata": {},
     "output_type": "execute_result"
    }
   ],
   "source": [
    "#dropping duplicates\n",
    "df_transactions.drop_duplicates(keep = 'first').shape"
   ]
  },
  {
   "cell_type": "code",
   "execution_count": 131,
   "id": "5a475d53-2db4-43b6-8282-cf4c3994f29f",
   "metadata": {},
   "outputs": [],
   "source": [
    "# Changing data type\n",
    "df_transactions = df_transactions.astype({\"PROD_NAME\" : \"category\"})"
   ]
  },
  {
   "cell_type": "code",
   "execution_count": 132,
   "id": "36ca3c92-77d1-4da9-ac98-d3778c585f74",
   "metadata": {},
   "outputs": [
    {
     "data": {
      "text/plain": [
       "CategoricalDtype(categories=['Burger Rings 220g', 'CCs Nacho Cheese    175g',\n",
       "                  'CCs Original 175g', 'CCs Tasty Cheese    175g',\n",
       "                  'Cheetos Chs & Bacon Balls 190g', 'Cheetos Puffs 165g',\n",
       "                  'Cheezels Cheese 330g', 'Cheezels Cheese Box 125g',\n",
       "                  'Cobs Popd Sea Salt  Chips 110g',\n",
       "                  'Cobs Popd Sour Crm  &Chives Chips 110g',\n",
       "                  ...\n",
       "                  'WW Crinkle Cut      Chicken 175g',\n",
       "                  'WW Crinkle Cut      Original 175g',\n",
       "                  'WW D/Style Chip     Sea Salt 200g',\n",
       "                  'WW Original Corn    Chips 200g',\n",
       "                  'WW Original Stacked Chips 160g',\n",
       "                  'WW Sour Cream &OnionStacked Chips 160g',\n",
       "                  'WW Supreme Cheese   Corn Chips 200g',\n",
       "                  'Woolworths Cheese   Rings 190g',\n",
       "                  'Woolworths Medium   Salsa 300g',\n",
       "                  'Woolworths Mild     Salsa 300g'],\n",
       ", ordered=False)"
      ]
     },
     "execution_count": 132,
     "metadata": {},
     "output_type": "execute_result"
    }
   ],
   "source": [
    "df_transactions['PROD_NAME'].dtype"
   ]
  },
  {
   "cell_type": "code",
   "execution_count": 133,
   "id": "f1b1018c-b089-4938-88a4-672945e78703",
   "metadata": {},
   "outputs": [],
   "source": [
    "# Separating the weight from the product\n",
    "df_transactions['WEIGHT']= df_transactions['PROD_NAME'].str[-4:] "
   ]
  },
  {
   "cell_type": "code",
   "execution_count": 134,
   "id": "2b28173b-12dd-4a76-86fb-81816451d979",
   "metadata": {},
   "outputs": [],
   "source": [
    "#Changing the order of the dataframe so that the weight is next to the product\n",
    "df_transactions = df_transactions.iloc[:,[0,1,2,3,4,5,8,6,7]]"
   ]
  },
  {
   "cell_type": "code",
   "execution_count": 135,
   "id": "e7cc2655-2592-42ea-a2b5-70c585ef9de6",
   "metadata": {},
   "outputs": [],
   "source": [
    "#Removing the weight\n",
    "df_transactions['PROD_NAME'] = df_transactions['PROD_NAME'].str[:-4]"
   ]
  },
  {
   "cell_type": "code",
   "execution_count": 136,
   "id": "b20d33e0-b128-4399-ad1e-71dd7bb64ac0",
   "metadata": {},
   "outputs": [
    {
     "data": {
      "text/html": [
       "<div>\n",
       "<style scoped>\n",
       "    .dataframe tbody tr th:only-of-type {\n",
       "        vertical-align: middle;\n",
       "    }\n",
       "\n",
       "    .dataframe tbody tr th {\n",
       "        vertical-align: top;\n",
       "    }\n",
       "\n",
       "    .dataframe thead th {\n",
       "        text-align: right;\n",
       "    }\n",
       "</style>\n",
       "<table border=\"1\" class=\"dataframe\">\n",
       "  <thead>\n",
       "    <tr style=\"text-align: right;\">\n",
       "      <th></th>\n",
       "      <th>DATE</th>\n",
       "      <th>STORE_NBR</th>\n",
       "      <th>LYLTY_CARD_NBR</th>\n",
       "      <th>TXN_ID</th>\n",
       "      <th>PROD_NBR</th>\n",
       "      <th>PROD_NAME</th>\n",
       "      <th>WEIGHT</th>\n",
       "      <th>PROD_QTY</th>\n",
       "      <th>TOT_SALES</th>\n",
       "    </tr>\n",
       "  </thead>\n",
       "  <tbody>\n",
       "    <tr>\n",
       "      <th>0</th>\n",
       "      <td>2018-10-17</td>\n",
       "      <td>1</td>\n",
       "      <td>1000</td>\n",
       "      <td>1</td>\n",
       "      <td>5</td>\n",
       "      <td>Natural Chip        Compny SeaSalt</td>\n",
       "      <td>175g</td>\n",
       "      <td>2</td>\n",
       "      <td>6.00</td>\n",
       "    </tr>\n",
       "    <tr>\n",
       "      <th>1</th>\n",
       "      <td>2019-05-14</td>\n",
       "      <td>1</td>\n",
       "      <td>1307</td>\n",
       "      <td>348</td>\n",
       "      <td>66</td>\n",
       "      <td>CCs Nacho Cheese</td>\n",
       "      <td>175g</td>\n",
       "      <td>3</td>\n",
       "      <td>6.30</td>\n",
       "    </tr>\n",
       "    <tr>\n",
       "      <th>2</th>\n",
       "      <td>2019-05-20</td>\n",
       "      <td>1</td>\n",
       "      <td>1343</td>\n",
       "      <td>383</td>\n",
       "      <td>61</td>\n",
       "      <td>Smiths Crinkle Cut  Chips Chicken</td>\n",
       "      <td>170g</td>\n",
       "      <td>2</td>\n",
       "      <td>2.90</td>\n",
       "    </tr>\n",
       "    <tr>\n",
       "      <th>3</th>\n",
       "      <td>2018-08-17</td>\n",
       "      <td>2</td>\n",
       "      <td>2373</td>\n",
       "      <td>974</td>\n",
       "      <td>69</td>\n",
       "      <td>Smiths Chip Thinly  S/Cream&amp;Onion</td>\n",
       "      <td>175g</td>\n",
       "      <td>5</td>\n",
       "      <td>15.00</td>\n",
       "    </tr>\n",
       "    <tr>\n",
       "      <th>4</th>\n",
       "      <td>2018-08-18</td>\n",
       "      <td>2</td>\n",
       "      <td>2426</td>\n",
       "      <td>1038</td>\n",
       "      <td>108</td>\n",
       "      <td>Kettle Tortilla ChpsHny&amp;Jlpno Chili</td>\n",
       "      <td>150g</td>\n",
       "      <td>3</td>\n",
       "      <td>13.80</td>\n",
       "    </tr>\n",
       "    <tr>\n",
       "      <th>...</th>\n",
       "      <td>...</td>\n",
       "      <td>...</td>\n",
       "      <td>...</td>\n",
       "      <td>...</td>\n",
       "      <td>...</td>\n",
       "      <td>...</td>\n",
       "      <td>...</td>\n",
       "      <td>...</td>\n",
       "      <td>...</td>\n",
       "    </tr>\n",
       "    <tr>\n",
       "      <th>264831</th>\n",
       "      <td>2019-03-09</td>\n",
       "      <td>272</td>\n",
       "      <td>272319</td>\n",
       "      <td>270088</td>\n",
       "      <td>89</td>\n",
       "      <td>Kettle Sweet Chilli And Sour Cream</td>\n",
       "      <td>175g</td>\n",
       "      <td>2</td>\n",
       "      <td>10.80</td>\n",
       "    </tr>\n",
       "    <tr>\n",
       "      <th>264832</th>\n",
       "      <td>2018-08-13</td>\n",
       "      <td>272</td>\n",
       "      <td>272358</td>\n",
       "      <td>270154</td>\n",
       "      <td>74</td>\n",
       "      <td>Tostitos Splash Of  Lime</td>\n",
       "      <td>175g</td>\n",
       "      <td>1</td>\n",
       "      <td>4.40</td>\n",
       "    </tr>\n",
       "    <tr>\n",
       "      <th>264833</th>\n",
       "      <td>2018-11-06</td>\n",
       "      <td>272</td>\n",
       "      <td>272379</td>\n",
       "      <td>270187</td>\n",
       "      <td>51</td>\n",
       "      <td>Doritos Mexicana</td>\n",
       "      <td>170g</td>\n",
       "      <td>2</td>\n",
       "      <td>8.80</td>\n",
       "    </tr>\n",
       "    <tr>\n",
       "      <th>264834</th>\n",
       "      <td>2018-12-27</td>\n",
       "      <td>272</td>\n",
       "      <td>272379</td>\n",
       "      <td>270188</td>\n",
       "      <td>42</td>\n",
       "      <td>Doritos Corn Chip Mexican Jalapeno</td>\n",
       "      <td>150g</td>\n",
       "      <td>2</td>\n",
       "      <td>7.80</td>\n",
       "    </tr>\n",
       "    <tr>\n",
       "      <th>264835</th>\n",
       "      <td>2018-09-22</td>\n",
       "      <td>272</td>\n",
       "      <td>272380</td>\n",
       "      <td>270189</td>\n",
       "      <td>74</td>\n",
       "      <td>Tostitos Splash Of  Lime</td>\n",
       "      <td>175g</td>\n",
       "      <td>2</td>\n",
       "      <td>8.80</td>\n",
       "    </tr>\n",
       "  </tbody>\n",
       "</table>\n",
       "<p>264836 rows × 9 columns</p>\n",
       "</div>"
      ],
      "text/plain": [
       "             DATE  STORE_NBR  LYLTY_CARD_NBR  TXN_ID  PROD_NBR  \\\n",
       "0      2018-10-17          1            1000       1         5   \n",
       "1      2019-05-14          1            1307     348        66   \n",
       "2      2019-05-20          1            1343     383        61   \n",
       "3      2018-08-17          2            2373     974        69   \n",
       "4      2018-08-18          2            2426    1038       108   \n",
       "...           ...        ...             ...     ...       ...   \n",
       "264831 2019-03-09        272          272319  270088        89   \n",
       "264832 2018-08-13        272          272358  270154        74   \n",
       "264833 2018-11-06        272          272379  270187        51   \n",
       "264834 2018-12-27        272          272379  270188        42   \n",
       "264835 2018-09-22        272          272380  270189        74   \n",
       "\n",
       "                                   PROD_NAME WEIGHT  PROD_QTY  TOT_SALES  \n",
       "0         Natural Chip        Compny SeaSalt   175g         2       6.00  \n",
       "1                       CCs Nacho Cheese       175g         3       6.30  \n",
       "2         Smiths Crinkle Cut  Chips Chicken    170g         2       2.90  \n",
       "3         Smiths Chip Thinly  S/Cream&Onion    175g         5      15.00  \n",
       "4       Kettle Tortilla ChpsHny&Jlpno Chili    150g         3      13.80  \n",
       "...                                      ...    ...       ...        ...  \n",
       "264831   Kettle Sweet Chilli And Sour Cream    175g         2      10.80  \n",
       "264832             Tostitos Splash Of  Lime    175g         1       4.40  \n",
       "264833                  Doritos Mexicana       170g         2       8.80  \n",
       "264834   Doritos Corn Chip Mexican Jalapeno    150g         2       7.80  \n",
       "264835             Tostitos Splash Of  Lime    175g         2       8.80  \n",
       "\n",
       "[264836 rows x 9 columns]"
      ]
     },
     "execution_count": 136,
     "metadata": {},
     "output_type": "execute_result"
    }
   ],
   "source": [
    "df_transactions"
   ]
  },
  {
   "cell_type": "code",
   "execution_count": 152,
   "id": "cb92df4b-d1b0-44f3-bfbd-ec4be8d61a81",
   "metadata": {},
   "outputs": [
    {
     "data": {
      "text/html": [
       "<div>\n",
       "<style scoped>\n",
       "    .dataframe tbody tr th:only-of-type {\n",
       "        vertical-align: middle;\n",
       "    }\n",
       "\n",
       "    .dataframe tbody tr th {\n",
       "        vertical-align: top;\n",
       "    }\n",
       "\n",
       "    .dataframe thead th {\n",
       "        text-align: right;\n",
       "    }\n",
       "</style>\n",
       "<table border=\"1\" class=\"dataframe\">\n",
       "  <thead>\n",
       "    <tr style=\"text-align: right;\">\n",
       "      <th></th>\n",
       "      <th>STORE_NBR</th>\n",
       "      <th>LYLTY_CARD_NBR</th>\n",
       "      <th>TXN_ID</th>\n",
       "      <th>PROD_NBR</th>\n",
       "      <th>PROD_QTY</th>\n",
       "      <th>TOT_SALES</th>\n",
       "    </tr>\n",
       "  </thead>\n",
       "  <tbody>\n",
       "    <tr>\n",
       "      <th>count</th>\n",
       "      <td>264836.00</td>\n",
       "      <td>264836.00</td>\n",
       "      <td>264836.00</td>\n",
       "      <td>264836.00</td>\n",
       "      <td>264836.00</td>\n",
       "      <td>264836.00</td>\n",
       "    </tr>\n",
       "    <tr>\n",
       "      <th>mean</th>\n",
       "      <td>135.08</td>\n",
       "      <td>135549.48</td>\n",
       "      <td>135158.31</td>\n",
       "      <td>56.58</td>\n",
       "      <td>1.91</td>\n",
       "      <td>7.30</td>\n",
       "    </tr>\n",
       "    <tr>\n",
       "      <th>std</th>\n",
       "      <td>76.78</td>\n",
       "      <td>80579.98</td>\n",
       "      <td>78133.03</td>\n",
       "      <td>32.83</td>\n",
       "      <td>0.64</td>\n",
       "      <td>3.08</td>\n",
       "    </tr>\n",
       "    <tr>\n",
       "      <th>min</th>\n",
       "      <td>1.00</td>\n",
       "      <td>1000.00</td>\n",
       "      <td>1.00</td>\n",
       "      <td>1.00</td>\n",
       "      <td>1.00</td>\n",
       "      <td>1.50</td>\n",
       "    </tr>\n",
       "    <tr>\n",
       "      <th>25%</th>\n",
       "      <td>70.00</td>\n",
       "      <td>70021.00</td>\n",
       "      <td>67601.50</td>\n",
       "      <td>28.00</td>\n",
       "      <td>2.00</td>\n",
       "      <td>5.40</td>\n",
       "    </tr>\n",
       "    <tr>\n",
       "      <th>50%</th>\n",
       "      <td>130.00</td>\n",
       "      <td>130357.50</td>\n",
       "      <td>135137.50</td>\n",
       "      <td>56.00</td>\n",
       "      <td>2.00</td>\n",
       "      <td>7.40</td>\n",
       "    </tr>\n",
       "    <tr>\n",
       "      <th>75%</th>\n",
       "      <td>203.00</td>\n",
       "      <td>203094.25</td>\n",
       "      <td>202701.25</td>\n",
       "      <td>85.00</td>\n",
       "      <td>2.00</td>\n",
       "      <td>9.20</td>\n",
       "    </tr>\n",
       "    <tr>\n",
       "      <th>max</th>\n",
       "      <td>272.00</td>\n",
       "      <td>2373711.00</td>\n",
       "      <td>2415841.00</td>\n",
       "      <td>114.00</td>\n",
       "      <td>200.00</td>\n",
       "      <td>650.00</td>\n",
       "    </tr>\n",
       "  </tbody>\n",
       "</table>\n",
       "</div>"
      ],
      "text/plain": [
       "       STORE_NBR  LYLTY_CARD_NBR     TXN_ID  PROD_NBR  PROD_QTY  TOT_SALES\n",
       "count  264836.00       264836.00  264836.00 264836.00 264836.00  264836.00\n",
       "mean      135.08       135549.48  135158.31     56.58      1.91       7.30\n",
       "std        76.78        80579.98   78133.03     32.83      0.64       3.08\n",
       "min         1.00         1000.00       1.00      1.00      1.00       1.50\n",
       "25%        70.00        70021.00   67601.50     28.00      2.00       5.40\n",
       "50%       130.00       130357.50  135137.50     56.00      2.00       7.40\n",
       "75%       203.00       203094.25  202701.25     85.00      2.00       9.20\n",
       "max       272.00      2373711.00 2415841.00    114.00    200.00     650.00"
      ]
     },
     "execution_count": 152,
     "metadata": {},
     "output_type": "execute_result"
    }
   ],
   "source": [
    "df_transactions.describe()"
   ]
  },
  {
   "cell_type": "code",
   "execution_count": 137,
   "id": "fea3f0d7-c12a-4aae-ba54-478d2c7b6fac",
   "metadata": {},
   "outputs": [
    {
     "data": {
      "text/plain": [
       "0           Natural Chip        Compny SeaSalt\n",
       "1                         CCs Nacho Cheese    \n",
       "2           Smiths Crinkle Cut  Chips Chicken \n",
       "3           Smiths Chip Thinly  S/Cream&Onion \n",
       "4         Kettle Tortilla ChpsHny&Jlpno Chili \n",
       "                          ...                 \n",
       "264831     Kettle Sweet Chilli And Sour Cream \n",
       "264832               Tostitos Splash Of  Lime \n",
       "264833                    Doritos Mexicana    \n",
       "264834     Doritos Corn Chip Mexican Jalapeno \n",
       "264835               Tostitos Splash Of  Lime \n",
       "Name: PROD_NAME, Length: 264836, dtype: object"
      ]
     },
     "execution_count": 137,
     "metadata": {},
     "output_type": "execute_result"
    }
   ],
   "source": [
    "df_transactions[\"PROD_NAME\"]"
   ]
  },
  {
   "cell_type": "code",
   "execution_count": 138,
   "id": "ba37cc03-6553-4675-84f7-fc27d8fb4283",
   "metadata": {},
   "outputs": [],
   "source": [
    "# Merge the datasets\n",
    "df_custrans = pd.merge(df_customer,df_transactions,on = \"LYLTY_CARD_NBR\", how = \"outer\")"
   ]
  },
  {
   "cell_type": "code",
   "execution_count": 156,
   "id": "6180fbe2-3055-4856-92fe-aaea7bb58ff3",
   "metadata": {},
   "outputs": [
    {
     "data": {
      "text/html": [
       "<div>\n",
       "<style scoped>\n",
       "    .dataframe tbody tr th:only-of-type {\n",
       "        vertical-align: middle;\n",
       "    }\n",
       "\n",
       "    .dataframe tbody tr th {\n",
       "        vertical-align: top;\n",
       "    }\n",
       "\n",
       "    .dataframe thead th {\n",
       "        text-align: right;\n",
       "    }\n",
       "</style>\n",
       "<table border=\"1\" class=\"dataframe\">\n",
       "  <thead>\n",
       "    <tr style=\"text-align: right;\">\n",
       "      <th></th>\n",
       "      <th>LYLTY_CARD_NBR</th>\n",
       "      <th>LIFESTAGE</th>\n",
       "      <th>PREMIUM_CUSTOMER</th>\n",
       "      <th>DATE</th>\n",
       "      <th>STORE_NBR</th>\n",
       "      <th>TXN_ID</th>\n",
       "      <th>PROD_NBR</th>\n",
       "      <th>PROD_NAME</th>\n",
       "      <th>WEIGHT</th>\n",
       "      <th>PROD_QTY</th>\n",
       "      <th>TOT_SALES</th>\n",
       "    </tr>\n",
       "  </thead>\n",
       "  <tbody>\n",
       "    <tr>\n",
       "      <th>0</th>\n",
       "      <td>1000</td>\n",
       "      <td>YOUNG SINGLES/COUPLES</td>\n",
       "      <td>Premium</td>\n",
       "      <td>2018-10-17</td>\n",
       "      <td>1</td>\n",
       "      <td>1</td>\n",
       "      <td>5</td>\n",
       "      <td>Natural Chip        Compny SeaSalt</td>\n",
       "      <td>175g</td>\n",
       "      <td>2</td>\n",
       "      <td>6.00</td>\n",
       "    </tr>\n",
       "    <tr>\n",
       "      <th>1</th>\n",
       "      <td>1002</td>\n",
       "      <td>YOUNG SINGLES/COUPLES</td>\n",
       "      <td>Mainstream</td>\n",
       "      <td>2018-09-16</td>\n",
       "      <td>1</td>\n",
       "      <td>2</td>\n",
       "      <td>58</td>\n",
       "      <td>Red Rock Deli Chikn&amp;Garlic Aioli</td>\n",
       "      <td>150g</td>\n",
       "      <td>1</td>\n",
       "      <td>2.70</td>\n",
       "    </tr>\n",
       "    <tr>\n",
       "      <th>2</th>\n",
       "      <td>1003</td>\n",
       "      <td>YOUNG FAMILIES</td>\n",
       "      <td>Budget</td>\n",
       "      <td>2019-03-07</td>\n",
       "      <td>1</td>\n",
       "      <td>3</td>\n",
       "      <td>52</td>\n",
       "      <td>Grain Waves Sour    Cream&amp;Chives</td>\n",
       "      <td>210G</td>\n",
       "      <td>1</td>\n",
       "      <td>3.60</td>\n",
       "    </tr>\n",
       "    <tr>\n",
       "      <th>3</th>\n",
       "      <td>1003</td>\n",
       "      <td>YOUNG FAMILIES</td>\n",
       "      <td>Budget</td>\n",
       "      <td>2019-03-08</td>\n",
       "      <td>1</td>\n",
       "      <td>4</td>\n",
       "      <td>106</td>\n",
       "      <td>Natural ChipCo      Hony Soy Chckn</td>\n",
       "      <td>175g</td>\n",
       "      <td>1</td>\n",
       "      <td>3.00</td>\n",
       "    </tr>\n",
       "    <tr>\n",
       "      <th>4</th>\n",
       "      <td>1004</td>\n",
       "      <td>OLDER SINGLES/COUPLES</td>\n",
       "      <td>Mainstream</td>\n",
       "      <td>2018-11-02</td>\n",
       "      <td>1</td>\n",
       "      <td>5</td>\n",
       "      <td>96</td>\n",
       "      <td>WW Original Stacked Chips</td>\n",
       "      <td>160g</td>\n",
       "      <td>1</td>\n",
       "      <td>1.90</td>\n",
       "    </tr>\n",
       "  </tbody>\n",
       "</table>\n",
       "</div>"
      ],
      "text/plain": [
       "   LYLTY_CARD_NBR              LIFESTAGE PREMIUM_CUSTOMER       DATE  \\\n",
       "0            1000  YOUNG SINGLES/COUPLES          Premium 2018-10-17   \n",
       "1            1002  YOUNG SINGLES/COUPLES       Mainstream 2018-09-16   \n",
       "2            1003         YOUNG FAMILIES           Budget 2019-03-07   \n",
       "3            1003         YOUNG FAMILIES           Budget 2019-03-08   \n",
       "4            1004  OLDER SINGLES/COUPLES       Mainstream 2018-11-02   \n",
       "\n",
       "   STORE_NBR  TXN_ID  PROD_NBR                           PROD_NAME WEIGHT  \\\n",
       "0          1       1         5  Natural Chip        Compny SeaSalt   175g   \n",
       "1          1       2        58   Red Rock Deli Chikn&Garlic Aioli    150g   \n",
       "2          1       3        52   Grain Waves Sour    Cream&Chives    210G   \n",
       "3          1       4       106  Natural ChipCo      Hony Soy Chckn   175g   \n",
       "4          1       5        96          WW Original Stacked Chips    160g   \n",
       "\n",
       "   PROD_QTY  TOT_SALES  \n",
       "0         2       6.00  \n",
       "1         1       2.70  \n",
       "2         1       3.60  \n",
       "3         1       3.00  \n",
       "4         1       1.90  "
      ]
     },
     "execution_count": 156,
     "metadata": {},
     "output_type": "execute_result"
    }
   ],
   "source": [
    "df_custrans.head()"
   ]
  },
  {
   "cell_type": "code",
   "execution_count": 140,
   "id": "eef9a0a0-a262-4b94-b1e1-58e93f7c0a20",
   "metadata": {},
   "outputs": [],
   "source": [
    "# most bought\n",
    "#df_popular= (df_custrans.groupby(['PROD_NAME','WEIGHT','PROD_QTY'])['PROD_QTY'].agg(['count']).sort_values(by='count', ascending=False).reset_index().drop_duplicates('PROD_NAME', keep='first'))"
   ]
  },
  {
   "cell_type": "code",
   "execution_count": 162,
   "id": "d17c6e86-166f-42c3-8581-68ebebeaf401",
   "metadata": {},
   "outputs": [],
   "source": [
    "#Calculating top sellers\n",
    "df_topsellers = df_custrans.groupby(by=['PROD_NAME','WEIGHT'], as_index=False)['TOT_SALES'].sum().sort_values(by = 'TOT_SALES',ascending = False)"
   ]
  },
  {
   "cell_type": "code",
   "execution_count": 163,
   "id": "c22d893b-a9ce-4583-8b17-d25a859d8db2",
   "metadata": {},
   "outputs": [
    {
     "data": {
      "text/html": [
       "<div>\n",
       "<style scoped>\n",
       "    .dataframe tbody tr th:only-of-type {\n",
       "        vertical-align: middle;\n",
       "    }\n",
       "\n",
       "    .dataframe tbody tr th {\n",
       "        vertical-align: top;\n",
       "    }\n",
       "\n",
       "    .dataframe thead th {\n",
       "        text-align: right;\n",
       "    }\n",
       "</style>\n",
       "<table border=\"1\" class=\"dataframe\">\n",
       "  <thead>\n",
       "    <tr style=\"text-align: right;\">\n",
       "      <th></th>\n",
       "      <th>PROD_NAME</th>\n",
       "      <th>WEIGHT</th>\n",
       "      <th>TOT_SALES</th>\n",
       "    </tr>\n",
       "  </thead>\n",
       "  <tbody>\n",
       "    <tr>\n",
       "      <th>11</th>\n",
       "      <td>Dorito Corn Chp     Supreme</td>\n",
       "      <td>380g</td>\n",
       "      <td>40352.00</td>\n",
       "    </tr>\n",
       "    <tr>\n",
       "      <th>86</th>\n",
       "      <td>Smiths Crnkle Chip  Orgnl Big Bag</td>\n",
       "      <td>380g</td>\n",
       "      <td>36367.60</td>\n",
       "    </tr>\n",
       "    <tr>\n",
       "      <th>77</th>\n",
       "      <td>Smiths Crinkle Chips Salt &amp; Vinegar</td>\n",
       "      <td>330g</td>\n",
       "      <td>34804.20</td>\n",
       "    </tr>\n",
       "    <tr>\n",
       "      <th>33</th>\n",
       "      <td>Kettle Mozzarella   Basil &amp; Pesto</td>\n",
       "      <td>175g</td>\n",
       "      <td>34457.40</td>\n",
       "    </tr>\n",
       "    <tr>\n",
       "      <th>76</th>\n",
       "      <td>Smiths Crinkle      Original</td>\n",
       "      <td>330g</td>\n",
       "      <td>34302.60</td>\n",
       "    </tr>\n",
       "    <tr>\n",
       "      <th>...</th>\n",
       "      <td>...</td>\n",
       "      <td>...</td>\n",
       "      <td>...</td>\n",
       "    </tr>\n",
       "    <tr>\n",
       "      <th>104</th>\n",
       "      <td>WW Crinkle Cut      Chicken</td>\n",
       "      <td>175g</td>\n",
       "      <td>4702.20</td>\n",
       "    </tr>\n",
       "    <tr>\n",
       "      <th>90</th>\n",
       "      <td>Sunbites Whlegrn    Crisps Frch/Onin</td>\n",
       "      <td>90g</td>\n",
       "      <td>4600.20</td>\n",
       "    </tr>\n",
       "    <tr>\n",
       "      <th>105</th>\n",
       "      <td>WW Crinkle Cut      Original</td>\n",
       "      <td>175g</td>\n",
       "      <td>4532.20</td>\n",
       "    </tr>\n",
       "    <tr>\n",
       "      <th>113</th>\n",
       "      <td>Woolworths Mild     Salsa</td>\n",
       "      <td>300g</td>\n",
       "      <td>4234.50</td>\n",
       "    </tr>\n",
       "    <tr>\n",
       "      <th>112</th>\n",
       "      <td>Woolworths Medium   Salsa</td>\n",
       "      <td>300g</td>\n",
       "      <td>4050.00</td>\n",
       "    </tr>\n",
       "  </tbody>\n",
       "</table>\n",
       "<p>114 rows × 3 columns</p>\n",
       "</div>"
      ],
      "text/plain": [
       "                                PROD_NAME WEIGHT  TOT_SALES\n",
       "11           Dorito Corn Chp     Supreme    380g   40352.00\n",
       "86     Smiths Crnkle Chip  Orgnl Big Bag    380g   36367.60\n",
       "77   Smiths Crinkle Chips Salt & Vinegar    330g   34804.20\n",
       "33     Kettle Mozzarella   Basil & Pesto    175g   34457.40\n",
       "76          Smiths Crinkle      Original    330g   34302.60\n",
       "..                                    ...    ...        ...\n",
       "104          WW Crinkle Cut      Chicken    175g    4702.20\n",
       "90   Sunbites Whlegrn    Crisps Frch/Onin    90g    4600.20\n",
       "105         WW Crinkle Cut      Original    175g    4532.20\n",
       "113            Woolworths Mild     Salsa    300g    4234.50\n",
       "112            Woolworths Medium   Salsa    300g    4050.00\n",
       "\n",
       "[114 rows x 3 columns]"
      ]
     },
     "execution_count": 163,
     "metadata": {},
     "output_type": "execute_result"
    }
   ],
   "source": [
    "df_topsellers"
   ]
  },
  {
   "cell_type": "code",
   "execution_count": null,
   "id": "ea242107-3167-4263-80c1-f3b6cd110df4",
   "metadata": {},
   "outputs": [],
   "source": []
  }
 ],
 "metadata": {
  "kernelspec": {
   "display_name": "Python 3 (ipykernel)",
   "language": "python",
   "name": "python3"
  },
  "language_info": {
   "codemirror_mode": {
    "name": "ipython",
    "version": 3
   },
   "file_extension": ".py",
   "mimetype": "text/x-python",
   "name": "python",
   "nbconvert_exporter": "python",
   "pygments_lexer": "ipython3",
   "version": "3.8.12"
  }
 },
 "nbformat": 4,
 "nbformat_minor": 5
}
