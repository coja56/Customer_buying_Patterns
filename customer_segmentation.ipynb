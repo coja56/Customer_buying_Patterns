{
 "cells": [
  {
   "cell_type": "code",
   "execution_count": 126,
   "id": "b488303e-93ed-46e4-b58c-207c22ea8d32",
   "metadata": {},
   "outputs": [],
   "source": [
    "# importing python libraries for analysis\n",
    "import pandas as pd\n",
    "import numpy as np\n",
    "from matplotlib import pyplot as plt\n",
    "import openpyxl \n",
    "import seaborn as sns"
   ]
  },
  {
   "cell_type": "code",
   "execution_count": 127,
   "id": "d0ba8be5-9d4e-40c0-a7b1-e508106fc2a6",
   "metadata": {},
   "outputs": [],
   "source": [
    "# Show all columns(instead of cascading columns in the middle)\n",
    "pd.set_option(\"display.max_columns\",None)\n",
    "# Don't show numbers in scientific notation\n",
    "pd.set_option(\"display.float_format\",\"{:.2f}\".format)"
   ]
  },
  {
   "cell_type": "code",
   "execution_count": 128,
   "id": "82a8e62b-4f54-4c6e-8b8f-f55eb87dd3cd",
   "metadata": {},
   "outputs": [],
   "source": [
    "# reading the csv and xlsx file\n",
    "df_customer = pd.read_csv(\"QVI_purchase_behaviour.csv\")\n",
    "df_transactions =pd.read_excel(\"QVI_transaction_data.xlsx\")\n"
   ]
  },
  {
   "cell_type": "code",
   "execution_count": 129,
   "id": "41205b2f-ea46-4738-add3-b811e7537e1d",
   "metadata": {},
   "outputs": [],
   "source": [
    "# Converting excel data with pandas\n",
    "df_transactions['DATE'] = pd.to_datetime(df_transactions['DATE'], unit='d', origin='1899-12-30')"
   ]
  },
  {
   "cell_type": "code",
   "execution_count": 130,
   "id": "65eea37a-bd90-40ad-abb2-27eb29661ae0",
   "metadata": {},
   "outputs": [
    {
     "data": {
      "text/html": [
       "<div>\n",
       "<style scoped>\n",
       "    .dataframe tbody tr th:only-of-type {\n",
       "        vertical-align: middle;\n",
       "    }\n",
       "\n",
       "    .dataframe tbody tr th {\n",
       "        vertical-align: top;\n",
       "    }\n",
       "\n",
       "    .dataframe thead th {\n",
       "        text-align: right;\n",
       "    }\n",
       "</style>\n",
       "<table border=\"1\" class=\"dataframe\">\n",
       "  <thead>\n",
       "    <tr style=\"text-align: right;\">\n",
       "      <th></th>\n",
       "      <th>LYLTY_CARD_NBR</th>\n",
       "      <th>LIFESTAGE</th>\n",
       "      <th>PREMIUM_CUSTOMER</th>\n",
       "    </tr>\n",
       "  </thead>\n",
       "  <tbody>\n",
       "    <tr>\n",
       "      <th>0</th>\n",
       "      <td>1000</td>\n",
       "      <td>YOUNG SINGLES/COUPLES</td>\n",
       "      <td>Premium</td>\n",
       "    </tr>\n",
       "    <tr>\n",
       "      <th>1</th>\n",
       "      <td>1002</td>\n",
       "      <td>YOUNG SINGLES/COUPLES</td>\n",
       "      <td>Mainstream</td>\n",
       "    </tr>\n",
       "    <tr>\n",
       "      <th>2</th>\n",
       "      <td>1003</td>\n",
       "      <td>YOUNG FAMILIES</td>\n",
       "      <td>Budget</td>\n",
       "    </tr>\n",
       "    <tr>\n",
       "      <th>3</th>\n",
       "      <td>1004</td>\n",
       "      <td>OLDER SINGLES/COUPLES</td>\n",
       "      <td>Mainstream</td>\n",
       "    </tr>\n",
       "    <tr>\n",
       "      <th>4</th>\n",
       "      <td>1005</td>\n",
       "      <td>MIDAGE SINGLES/COUPLES</td>\n",
       "      <td>Mainstream</td>\n",
       "    </tr>\n",
       "  </tbody>\n",
       "</table>\n",
       "</div>"
      ],
      "text/plain": [
       "   LYLTY_CARD_NBR               LIFESTAGE PREMIUM_CUSTOMER\n",
       "0            1000   YOUNG SINGLES/COUPLES          Premium\n",
       "1            1002   YOUNG SINGLES/COUPLES       Mainstream\n",
       "2            1003          YOUNG FAMILIES           Budget\n",
       "3            1004   OLDER SINGLES/COUPLES       Mainstream\n",
       "4            1005  MIDAGE SINGLES/COUPLES       Mainstream"
      ]
     },
     "execution_count": 130,
     "metadata": {},
     "output_type": "execute_result"
    }
   ],
   "source": [
    "#Displaying the data\n",
    "df_customer.head(5)"
   ]
  },
  {
   "cell_type": "code",
   "execution_count": 131,
   "id": "c91c89be-d37e-4d58-972d-2b78ba0f34c0",
   "metadata": {},
   "outputs": [
    {
     "data": {
      "text/html": [
       "<div>\n",
       "<style scoped>\n",
       "    .dataframe tbody tr th:only-of-type {\n",
       "        vertical-align: middle;\n",
       "    }\n",
       "\n",
       "    .dataframe tbody tr th {\n",
       "        vertical-align: top;\n",
       "    }\n",
       "\n",
       "    .dataframe thead th {\n",
       "        text-align: right;\n",
       "    }\n",
       "</style>\n",
       "<table border=\"1\" class=\"dataframe\">\n",
       "  <thead>\n",
       "    <tr style=\"text-align: right;\">\n",
       "      <th></th>\n",
       "      <th>DATE</th>\n",
       "      <th>STORE_NBR</th>\n",
       "      <th>LYLTY_CARD_NBR</th>\n",
       "      <th>TXN_ID</th>\n",
       "      <th>PROD_NBR</th>\n",
       "      <th>PROD_NAME</th>\n",
       "      <th>PROD_QTY</th>\n",
       "      <th>TOT_SALES</th>\n",
       "    </tr>\n",
       "  </thead>\n",
       "  <tbody>\n",
       "    <tr>\n",
       "      <th>0</th>\n",
       "      <td>2018-10-17</td>\n",
       "      <td>1</td>\n",
       "      <td>1000</td>\n",
       "      <td>1</td>\n",
       "      <td>5</td>\n",
       "      <td>Natural Chip        Compny SeaSalt175g</td>\n",
       "      <td>2</td>\n",
       "      <td>6.00</td>\n",
       "    </tr>\n",
       "    <tr>\n",
       "      <th>1</th>\n",
       "      <td>2019-05-14</td>\n",
       "      <td>1</td>\n",
       "      <td>1307</td>\n",
       "      <td>348</td>\n",
       "      <td>66</td>\n",
       "      <td>CCs Nacho Cheese    175g</td>\n",
       "      <td>3</td>\n",
       "      <td>6.30</td>\n",
       "    </tr>\n",
       "    <tr>\n",
       "      <th>2</th>\n",
       "      <td>2019-05-20</td>\n",
       "      <td>1</td>\n",
       "      <td>1343</td>\n",
       "      <td>383</td>\n",
       "      <td>61</td>\n",
       "      <td>Smiths Crinkle Cut  Chips Chicken 170g</td>\n",
       "      <td>2</td>\n",
       "      <td>2.90</td>\n",
       "    </tr>\n",
       "    <tr>\n",
       "      <th>3</th>\n",
       "      <td>2018-08-17</td>\n",
       "      <td>2</td>\n",
       "      <td>2373</td>\n",
       "      <td>974</td>\n",
       "      <td>69</td>\n",
       "      <td>Smiths Chip Thinly  S/Cream&amp;Onion 175g</td>\n",
       "      <td>5</td>\n",
       "      <td>15.00</td>\n",
       "    </tr>\n",
       "    <tr>\n",
       "      <th>4</th>\n",
       "      <td>2018-08-18</td>\n",
       "      <td>2</td>\n",
       "      <td>2426</td>\n",
       "      <td>1038</td>\n",
       "      <td>108</td>\n",
       "      <td>Kettle Tortilla ChpsHny&amp;Jlpno Chili 150g</td>\n",
       "      <td>3</td>\n",
       "      <td>13.80</td>\n",
       "    </tr>\n",
       "  </tbody>\n",
       "</table>\n",
       "</div>"
      ],
      "text/plain": [
       "        DATE  STORE_NBR  LYLTY_CARD_NBR  TXN_ID  PROD_NBR  \\\n",
       "0 2018-10-17          1            1000       1         5   \n",
       "1 2019-05-14          1            1307     348        66   \n",
       "2 2019-05-20          1            1343     383        61   \n",
       "3 2018-08-17          2            2373     974        69   \n",
       "4 2018-08-18          2            2426    1038       108   \n",
       "\n",
       "                                  PROD_NAME  PROD_QTY  TOT_SALES  \n",
       "0    Natural Chip        Compny SeaSalt175g         2       6.00  \n",
       "1                  CCs Nacho Cheese    175g         3       6.30  \n",
       "2    Smiths Crinkle Cut  Chips Chicken 170g         2       2.90  \n",
       "3    Smiths Chip Thinly  S/Cream&Onion 175g         5      15.00  \n",
       "4  Kettle Tortilla ChpsHny&Jlpno Chili 150g         3      13.80  "
      ]
     },
     "execution_count": 131,
     "metadata": {},
     "output_type": "execute_result"
    }
   ],
   "source": [
    "df_transactions.head(5)"
   ]
  },
  {
   "cell_type": "code",
   "execution_count": 132,
   "id": "6f318698-78d7-4385-92d4-7e8cf1d81e7f",
   "metadata": {},
   "outputs": [
    {
     "name": "stdout",
     "output_type": "stream",
     "text": [
      "<class 'pandas.core.frame.DataFrame'>\n",
      "RangeIndex: 72637 entries, 0 to 72636\n",
      "Data columns (total 3 columns):\n",
      " #   Column            Non-Null Count  Dtype \n",
      "---  ------            --------------  ----- \n",
      " 0   LYLTY_CARD_NBR    72637 non-null  int64 \n",
      " 1   LIFESTAGE         72637 non-null  object\n",
      " 2   PREMIUM_CUSTOMER  72637 non-null  object\n",
      "dtypes: int64(1), object(2)\n",
      "memory usage: 1.7+ MB\n"
     ]
    }
   ],
   "source": [
    "#Printing column names, types, and non-null values\n",
    "df_customer.info(verbose = True, show_counts=True)"
   ]
  },
  {
   "cell_type": "code",
   "execution_count": 133,
   "id": "42cc3c55-03f7-437d-b61c-81ffd93198fe",
   "metadata": {},
   "outputs": [
    {
     "name": "stdout",
     "output_type": "stream",
     "text": [
      "<class 'pandas.core.frame.DataFrame'>\n",
      "RangeIndex: 264836 entries, 0 to 264835\n",
      "Data columns (total 8 columns):\n",
      " #   Column          Non-Null Count   Dtype         \n",
      "---  ------          --------------   -----         \n",
      " 0   DATE            264836 non-null  datetime64[ns]\n",
      " 1   STORE_NBR       264836 non-null  int64         \n",
      " 2   LYLTY_CARD_NBR  264836 non-null  int64         \n",
      " 3   TXN_ID          264836 non-null  int64         \n",
      " 4   PROD_NBR        264836 non-null  int64         \n",
      " 5   PROD_NAME       264836 non-null  object        \n",
      " 6   PROD_QTY        264836 non-null  int64         \n",
      " 7   TOT_SALES       264836 non-null  float64       \n",
      "dtypes: datetime64[ns](1), float64(1), int64(5), object(1)\n",
      "memory usage: 16.2+ MB\n"
     ]
    }
   ],
   "source": [
    "#Printing column names, types, and non-null values\n",
    "df_transactions.info(verbose = True, show_counts=True)"
   ]
  },
  {
   "cell_type": "code",
   "execution_count": 134,
   "id": "c960b51a-0915-4cab-8618-2a5d8cc1cab7",
   "metadata": {},
   "outputs": [
    {
     "data": {
      "text/plain": [
       "(72637, 3)"
      ]
     },
     "execution_count": 134,
     "metadata": {},
     "output_type": "execute_result"
    }
   ],
   "source": [
    "df_customer.shape"
   ]
  },
  {
   "cell_type": "code",
   "execution_count": 135,
   "id": "6d0997a6-3cf9-4ca5-9ca0-e68295dfd127",
   "metadata": {},
   "outputs": [
    {
     "data": {
      "text/plain": [
       "(264836, 8)"
      ]
     },
     "execution_count": 135,
     "metadata": {},
     "output_type": "execute_result"
    }
   ],
   "source": [
    "df_transactions.shape"
   ]
  },
  {
   "cell_type": "code",
   "execution_count": 136,
   "id": "bfa8b3ad-b135-48be-9e57-eaaf6bbc7d03",
   "metadata": {},
   "outputs": [
    {
     "data": {
      "text/plain": [
       "0"
      ]
     },
     "execution_count": 136,
     "metadata": {},
     "output_type": "execute_result"
    }
   ],
   "source": [
    "#looking for duplicates in customer data\n",
    "df_customer.duplicated().sum()"
   ]
  },
  {
   "cell_type": "code",
   "execution_count": 137,
   "id": "c7b3441c-9711-4dbb-a0c9-4067808c9e0e",
   "metadata": {},
   "outputs": [
    {
     "data": {
      "text/plain": [
       "1"
      ]
     },
     "execution_count": 137,
     "metadata": {},
     "output_type": "execute_result"
    }
   ],
   "source": [
    "#looking for duplicates in the dataframe for transactions\n",
    "df_transactions.duplicated().sum()"
   ]
  },
  {
   "cell_type": "code",
   "execution_count": 138,
   "id": "a6fb839d-ad8a-417a-b075-69d96d0260b1",
   "metadata": {},
   "outputs": [
    {
     "data": {
      "text/html": [
       "<div>\n",
       "<style scoped>\n",
       "    .dataframe tbody tr th:only-of-type {\n",
       "        vertical-align: middle;\n",
       "    }\n",
       "\n",
       "    .dataframe tbody tr th {\n",
       "        vertical-align: top;\n",
       "    }\n",
       "\n",
       "    .dataframe thead th {\n",
       "        text-align: right;\n",
       "    }\n",
       "</style>\n",
       "<table border=\"1\" class=\"dataframe\">\n",
       "  <thead>\n",
       "    <tr style=\"text-align: right;\">\n",
       "      <th></th>\n",
       "      <th>DATE</th>\n",
       "      <th>STORE_NBR</th>\n",
       "      <th>LYLTY_CARD_NBR</th>\n",
       "      <th>TXN_ID</th>\n",
       "      <th>PROD_NBR</th>\n",
       "      <th>PROD_NAME</th>\n",
       "      <th>PROD_QTY</th>\n",
       "      <th>TOT_SALES</th>\n",
       "    </tr>\n",
       "  </thead>\n",
       "  <tbody>\n",
       "    <tr>\n",
       "      <th>124845</th>\n",
       "      <td>2018-10-01</td>\n",
       "      <td>107</td>\n",
       "      <td>107024</td>\n",
       "      <td>108462</td>\n",
       "      <td>45</td>\n",
       "      <td>Smiths Thinly Cut   Roast Chicken 175g</td>\n",
       "      <td>2</td>\n",
       "      <td>6.00</td>\n",
       "    </tr>\n",
       "  </tbody>\n",
       "</table>\n",
       "</div>"
      ],
      "text/plain": [
       "             DATE  STORE_NBR  LYLTY_CARD_NBR  TXN_ID  PROD_NBR  \\\n",
       "124845 2018-10-01        107          107024  108462        45   \n",
       "\n",
       "                                     PROD_NAME  PROD_QTY  TOT_SALES  \n",
       "124845  Smiths Thinly Cut   Roast Chicken 175g         2       6.00  "
      ]
     },
     "execution_count": 138,
     "metadata": {},
     "output_type": "execute_result"
    }
   ],
   "source": [
    "# identifying the duplicates\n",
    "df_transactions.loc[df_transactions.duplicated(keep = 'first'),:]"
   ]
  },
  {
   "cell_type": "code",
   "execution_count": 139,
   "id": "bfc31e4f-236d-42d0-becd-7133a1b030ac",
   "metadata": {},
   "outputs": [
    {
     "data": {
      "text/plain": [
       "(264835, 8)"
      ]
     },
     "execution_count": 139,
     "metadata": {},
     "output_type": "execute_result"
    }
   ],
   "source": [
    "#dropping duplicates\n",
    "df_transactions.drop_duplicates(keep = 'first').shape"
   ]
  },
  {
   "cell_type": "code",
   "execution_count": 140,
   "id": "b8abb1ad-2029-4f6e-ba5a-f8c0878bcc35",
   "metadata": {},
   "outputs": [
    {
     "data": {
      "text/plain": [
       "'Kettle 135g Swt Pot Sea Salt'"
      ]
     },
     "execution_count": 140,
     "metadata": {},
     "output_type": "execute_result"
    }
   ],
   "source": [
    "#identifying irregular values\n",
    "df_transactions.iloc[354,5]"
   ]
  },
  {
   "cell_type": "code",
   "execution_count": 141,
   "id": "e13f25de-6064-4fc9-a8ac-3f6f1ddf6223",
   "metadata": {},
   "outputs": [],
   "source": [
    "#Cleaning mixed value\n",
    "df_transactions['PROD_NAME'] = df_transactions['PROD_NAME'].replace(['Kettle 135g Swt Pot Sea Salt'],'Kettle Swt Pot Sea Salt 135g')"
   ]
  },
  {
   "cell_type": "code",
   "execution_count": 142,
   "id": "528ae159-f500-4c4f-b951-1f3324b8cc6d",
   "metadata": {},
   "outputs": [
    {
     "data": {
      "text/plain": [
       "'Kettle Swt Pot Sea Salt 135g'"
      ]
     },
     "execution_count": 142,
     "metadata": {},
     "output_type": "execute_result"
    }
   ],
   "source": [
    "df_transactions.iloc[354,5]"
   ]
  },
  {
   "cell_type": "code",
   "execution_count": 143,
   "id": "b1f8c352-82fa-4281-b779-16996242a5af",
   "metadata": {},
   "outputs": [
    {
     "data": {
      "text/plain": [
       "array(['Natural Chip        Compny SeaSalt175g',\n",
       "       'CCs Nacho Cheese    175g',\n",
       "       'Smiths Crinkle Cut  Chips Chicken 170g',\n",
       "       'Smiths Chip Thinly  S/Cream&Onion 175g',\n",
       "       'Kettle Tortilla ChpsHny&Jlpno Chili 150g',\n",
       "       'Old El Paso Salsa   Dip Tomato Mild 300g',\n",
       "       'Smiths Crinkle Chips Salt & Vinegar 330g',\n",
       "       'Grain Waves         Sweet Chilli 210g',\n",
       "       'Doritos Corn Chip Mexican Jalapeno 150g',\n",
       "       'Grain Waves Sour    Cream&Chives 210G',\n",
       "       'Kettle Sensations   Siracha Lime 150g',\n",
       "       'Twisties Cheese     270g', 'WW Crinkle Cut      Chicken 175g',\n",
       "       'Thins Chips Light&  Tangy 175g', 'CCs Original 175g'],\n",
       "      dtype=object)"
      ]
     },
     "execution_count": 143,
     "metadata": {},
     "output_type": "execute_result"
    }
   ],
   "source": [
    "# removing salsa products in the transaction data\n",
    "df_transactions['PROD_NAME'].unique()[:15]"
   ]
  },
  {
   "cell_type": "code",
   "execution_count": 144,
   "id": "c0f8dc01-f082-43cd-a93f-5ec08811c9c3",
   "metadata": {},
   "outputs": [],
   "source": [
    "def remove_prod(df):\n",
    "    unwanted = \"salsa\"\n",
    "    if unwanted in df[\"PROD_NAME\"].lower().split():\n",
    "        return df.name"
   ]
  },
  {
   "cell_type": "code",
   "execution_count": 145,
   "id": "c3631b19-7d16-48f9-be8a-22f81395b44d",
   "metadata": {},
   "outputs": [],
   "source": [
    "drop_index = list(df_transactions.apply(remove_prod,axis = 1))"
   ]
  },
  {
   "cell_type": "code",
   "execution_count": 146,
   "id": "fd932407-cabc-4298-ab41-f2ba1a4396e3",
   "metadata": {},
   "outputs": [],
   "source": [
    "# creating a copy of all transactions and updating after removing unwanted products\n",
    "df_original = df_transactions.copy()\n",
    "df_transactions = df_transactions.drop([i for i in drop_index if ~np.isnan(i)])\n"
   ]
  },
  {
   "cell_type": "code",
   "execution_count": 147,
   "id": "8801bd28-e893-4b5e-9730-85a41839f5f3",
   "metadata": {},
   "outputs": [
    {
     "name": "stdout",
     "output_type": "stream",
     "text": [
      "Total Transaction: 264836\n",
      "Salsa Products: 18094\n",
      "Transactions without Salsa: 246742\n"
     ]
    }
   ],
   "source": [
    "# printing changed data\n",
    "print(\"Total Transaction: \"+str(len(df_original)))\n",
    "print(\"Salsa Products: \"+str(len(df_original)-len(df_transactions)))\n",
    "print(\"Transactions without Salsa: \"+str(len(df_transactions)))"
   ]
  },
  {
   "cell_type": "code",
   "execution_count": 148,
   "id": "5a475d53-2db4-43b6-8282-cf4c3994f29f",
   "metadata": {},
   "outputs": [],
   "source": [
    "# Changing data type\n",
    "df_transactions = df_transactions.astype({\"PROD_NAME\" : \"category\"})"
   ]
  },
  {
   "cell_type": "code",
   "execution_count": 149,
   "id": "36ca3c92-77d1-4da9-ac98-d3778c585f74",
   "metadata": {},
   "outputs": [
    {
     "data": {
      "text/plain": [
       "CategoricalDtype(categories=['Burger Rings 220g', 'CCs Nacho Cheese    175g',\n",
       "                  'CCs Original 175g', 'CCs Tasty Cheese    175g',\n",
       "                  'Cheetos Chs & Bacon Balls 190g', 'Cheetos Puffs 165g',\n",
       "                  'Cheezels Cheese 330g', 'Cheezels Cheese Box 125g',\n",
       "                  'Cobs Popd Sea Salt  Chips 110g',\n",
       "                  'Cobs Popd Sour Crm  &Chives Chips 110g',\n",
       "                  ...\n",
       "                  'Tyrrells Crisps     Ched & Chives 165g',\n",
       "                  'Tyrrells Crisps     Lightly Salted 165g',\n",
       "                  'WW Crinkle Cut      Chicken 175g',\n",
       "                  'WW Crinkle Cut      Original 175g',\n",
       "                  'WW D/Style Chip     Sea Salt 200g',\n",
       "                  'WW Original Corn    Chips 200g',\n",
       "                  'WW Original Stacked Chips 160g',\n",
       "                  'WW Sour Cream &OnionStacked Chips 160g',\n",
       "                  'WW Supreme Cheese   Corn Chips 200g',\n",
       "                  'Woolworths Cheese   Rings 190g'],\n",
       ", ordered=False)"
      ]
     },
     "execution_count": 149,
     "metadata": {},
     "output_type": "execute_result"
    }
   ],
   "source": [
    "df_transactions['PROD_NAME'].dtype"
   ]
  },
  {
   "cell_type": "code",
   "execution_count": 150,
   "id": "75b650d3-f0ac-4000-b3fd-ea097d611b6e",
   "metadata": {},
   "outputs": [
    {
     "data": {
      "text/html": [
       "<div>\n",
       "<style scoped>\n",
       "    .dataframe tbody tr th:only-of-type {\n",
       "        vertical-align: middle;\n",
       "    }\n",
       "\n",
       "    .dataframe tbody tr th {\n",
       "        vertical-align: top;\n",
       "    }\n",
       "\n",
       "    .dataframe thead th {\n",
       "        text-align: right;\n",
       "    }\n",
       "</style>\n",
       "<table border=\"1\" class=\"dataframe\">\n",
       "  <thead>\n",
       "    <tr style=\"text-align: right;\">\n",
       "      <th></th>\n",
       "      <th>STORE_NBR</th>\n",
       "      <th>LYLTY_CARD_NBR</th>\n",
       "      <th>TXN_ID</th>\n",
       "      <th>PROD_NBR</th>\n",
       "      <th>PROD_QTY</th>\n",
       "      <th>TOT_SALES</th>\n",
       "    </tr>\n",
       "  </thead>\n",
       "  <tbody>\n",
       "    <tr>\n",
       "      <th>count</th>\n",
       "      <td>246742.00</td>\n",
       "      <td>246742.00</td>\n",
       "      <td>246742.00</td>\n",
       "      <td>246742.00</td>\n",
       "      <td>246742.00</td>\n",
       "      <td>246742.00</td>\n",
       "    </tr>\n",
       "    <tr>\n",
       "      <th>mean</th>\n",
       "      <td>135.05</td>\n",
       "      <td>135530.98</td>\n",
       "      <td>135131.10</td>\n",
       "      <td>56.35</td>\n",
       "      <td>1.91</td>\n",
       "      <td>7.32</td>\n",
       "    </tr>\n",
       "    <tr>\n",
       "      <th>std</th>\n",
       "      <td>76.79</td>\n",
       "      <td>80715.28</td>\n",
       "      <td>78147.72</td>\n",
       "      <td>33.70</td>\n",
       "      <td>0.66</td>\n",
       "      <td>3.08</td>\n",
       "    </tr>\n",
       "    <tr>\n",
       "      <th>min</th>\n",
       "      <td>1.00</td>\n",
       "      <td>1000.00</td>\n",
       "      <td>1.00</td>\n",
       "      <td>1.00</td>\n",
       "      <td>1.00</td>\n",
       "      <td>1.70</td>\n",
       "    </tr>\n",
       "    <tr>\n",
       "      <th>25%</th>\n",
       "      <td>70.00</td>\n",
       "      <td>70015.00</td>\n",
       "      <td>67569.25</td>\n",
       "      <td>26.00</td>\n",
       "      <td>2.00</td>\n",
       "      <td>5.80</td>\n",
       "    </tr>\n",
       "    <tr>\n",
       "      <th>50%</th>\n",
       "      <td>130.00</td>\n",
       "      <td>130367.00</td>\n",
       "      <td>135183.00</td>\n",
       "      <td>53.00</td>\n",
       "      <td>2.00</td>\n",
       "      <td>7.40</td>\n",
       "    </tr>\n",
       "    <tr>\n",
       "      <th>75%</th>\n",
       "      <td>203.00</td>\n",
       "      <td>203084.00</td>\n",
       "      <td>202653.75</td>\n",
       "      <td>87.00</td>\n",
       "      <td>2.00</td>\n",
       "      <td>8.80</td>\n",
       "    </tr>\n",
       "    <tr>\n",
       "      <th>max</th>\n",
       "      <td>272.00</td>\n",
       "      <td>2373711.00</td>\n",
       "      <td>2415841.00</td>\n",
       "      <td>114.00</td>\n",
       "      <td>200.00</td>\n",
       "      <td>650.00</td>\n",
       "    </tr>\n",
       "  </tbody>\n",
       "</table>\n",
       "</div>"
      ],
      "text/plain": [
       "       STORE_NBR  LYLTY_CARD_NBR     TXN_ID  PROD_NBR  PROD_QTY  TOT_SALES\n",
       "count  246742.00       246742.00  246742.00 246742.00 246742.00  246742.00\n",
       "mean      135.05       135530.98  135131.10     56.35      1.91       7.32\n",
       "std        76.79        80715.28   78147.72     33.70      0.66       3.08\n",
       "min         1.00         1000.00       1.00      1.00      1.00       1.70\n",
       "25%        70.00        70015.00   67569.25     26.00      2.00       5.80\n",
       "50%       130.00       130367.00  135183.00     53.00      2.00       7.40\n",
       "75%       203.00       203084.00  202653.75     87.00      2.00       8.80\n",
       "max       272.00      2373711.00 2415841.00    114.00    200.00     650.00"
      ]
     },
     "execution_count": 150,
     "metadata": {},
     "output_type": "execute_result"
    }
   ],
   "source": [
    "# checking for outliers in PROD_QTY, mean is 2 but max is 200\n",
    "df_transactions.describe()"
   ]
  },
  {
   "cell_type": "code",
   "execution_count": 151,
   "id": "da1feea2-0a14-43e7-a738-88db15bd7528",
   "metadata": {},
   "outputs": [
    {
     "data": {
      "text/html": [
       "<div>\n",
       "<style scoped>\n",
       "    .dataframe tbody tr th:only-of-type {\n",
       "        vertical-align: middle;\n",
       "    }\n",
       "\n",
       "    .dataframe tbody tr th {\n",
       "        vertical-align: top;\n",
       "    }\n",
       "\n",
       "    .dataframe thead th {\n",
       "        text-align: right;\n",
       "    }\n",
       "</style>\n",
       "<table border=\"1\" class=\"dataframe\">\n",
       "  <thead>\n",
       "    <tr style=\"text-align: right;\">\n",
       "      <th></th>\n",
       "      <th>DATE</th>\n",
       "      <th>STORE_NBR</th>\n",
       "      <th>LYLTY_CARD_NBR</th>\n",
       "      <th>TXN_ID</th>\n",
       "      <th>PROD_NBR</th>\n",
       "      <th>PROD_NAME</th>\n",
       "      <th>PROD_QTY</th>\n",
       "      <th>TOT_SALES</th>\n",
       "    </tr>\n",
       "  </thead>\n",
       "  <tbody>\n",
       "    <tr>\n",
       "      <th>69762</th>\n",
       "      <td>2018-08-19</td>\n",
       "      <td>226</td>\n",
       "      <td>226000</td>\n",
       "      <td>226201</td>\n",
       "      <td>4</td>\n",
       "      <td>Dorito Corn Chp     Supreme 380g</td>\n",
       "      <td>200</td>\n",
       "      <td>650.00</td>\n",
       "    </tr>\n",
       "    <tr>\n",
       "      <th>69763</th>\n",
       "      <td>2019-05-20</td>\n",
       "      <td>226</td>\n",
       "      <td>226000</td>\n",
       "      <td>226210</td>\n",
       "      <td>4</td>\n",
       "      <td>Dorito Corn Chp     Supreme 380g</td>\n",
       "      <td>200</td>\n",
       "      <td>650.00</td>\n",
       "    </tr>\n",
       "  </tbody>\n",
       "</table>\n",
       "</div>"
      ],
      "text/plain": [
       "            DATE  STORE_NBR  LYLTY_CARD_NBR  TXN_ID  PROD_NBR  \\\n",
       "69762 2018-08-19        226          226000  226201         4   \n",
       "69763 2019-05-20        226          226000  226210         4   \n",
       "\n",
       "                              PROD_NAME  PROD_QTY  TOT_SALES  \n",
       "69762  Dorito Corn Chp     Supreme 380g       200     650.00  \n",
       "69763  Dorito Corn Chp     Supreme 380g       200     650.00  "
      ]
     },
     "execution_count": 151,
     "metadata": {},
     "output_type": "execute_result"
    }
   ],
   "source": [
    "#filtering out outliers\n",
    "df_transactions[df_transactions.PROD_QTY >50]"
   ]
  },
  {
   "cell_type": "code",
   "execution_count": 152,
   "id": "c22ce2e2-8afd-4a42-a93b-232e0a185c23",
   "metadata": {},
   "outputs": [
    {
     "data": {
      "text/html": [
       "<div>\n",
       "<style scoped>\n",
       "    .dataframe tbody tr th:only-of-type {\n",
       "        vertical-align: middle;\n",
       "    }\n",
       "\n",
       "    .dataframe tbody tr th {\n",
       "        vertical-align: top;\n",
       "    }\n",
       "\n",
       "    .dataframe thead th {\n",
       "        text-align: right;\n",
       "    }\n",
       "</style>\n",
       "<table border=\"1\" class=\"dataframe\">\n",
       "  <thead>\n",
       "    <tr style=\"text-align: right;\">\n",
       "      <th></th>\n",
       "      <th>STORE_NBR</th>\n",
       "      <th>LYLTY_CARD_NBR</th>\n",
       "      <th>TXN_ID</th>\n",
       "      <th>PROD_NBR</th>\n",
       "      <th>PROD_QTY</th>\n",
       "      <th>TOT_SALES</th>\n",
       "    </tr>\n",
       "  </thead>\n",
       "  <tbody>\n",
       "    <tr>\n",
       "      <th>count</th>\n",
       "      <td>246740.00</td>\n",
       "      <td>246740.00</td>\n",
       "      <td>246740.00</td>\n",
       "      <td>246740.00</td>\n",
       "      <td>246740.00</td>\n",
       "      <td>246740.00</td>\n",
       "    </tr>\n",
       "    <tr>\n",
       "      <th>mean</th>\n",
       "      <td>135.05</td>\n",
       "      <td>135530.25</td>\n",
       "      <td>135130.36</td>\n",
       "      <td>56.35</td>\n",
       "      <td>1.91</td>\n",
       "      <td>7.32</td>\n",
       "    </tr>\n",
       "    <tr>\n",
       "      <th>std</th>\n",
       "      <td>76.79</td>\n",
       "      <td>80715.20</td>\n",
       "      <td>78147.60</td>\n",
       "      <td>33.70</td>\n",
       "      <td>0.34</td>\n",
       "      <td>2.47</td>\n",
       "    </tr>\n",
       "    <tr>\n",
       "      <th>min</th>\n",
       "      <td>1.00</td>\n",
       "      <td>1000.00</td>\n",
       "      <td>1.00</td>\n",
       "      <td>1.00</td>\n",
       "      <td>1.00</td>\n",
       "      <td>1.70</td>\n",
       "    </tr>\n",
       "    <tr>\n",
       "      <th>25%</th>\n",
       "      <td>70.00</td>\n",
       "      <td>70015.00</td>\n",
       "      <td>67568.75</td>\n",
       "      <td>26.00</td>\n",
       "      <td>2.00</td>\n",
       "      <td>5.80</td>\n",
       "    </tr>\n",
       "    <tr>\n",
       "      <th>50%</th>\n",
       "      <td>130.00</td>\n",
       "      <td>130367.00</td>\n",
       "      <td>135181.50</td>\n",
       "      <td>53.00</td>\n",
       "      <td>2.00</td>\n",
       "      <td>7.40</td>\n",
       "    </tr>\n",
       "    <tr>\n",
       "      <th>75%</th>\n",
       "      <td>203.00</td>\n",
       "      <td>203083.25</td>\n",
       "      <td>202652.25</td>\n",
       "      <td>87.00</td>\n",
       "      <td>2.00</td>\n",
       "      <td>8.80</td>\n",
       "    </tr>\n",
       "    <tr>\n",
       "      <th>max</th>\n",
       "      <td>272.00</td>\n",
       "      <td>2373711.00</td>\n",
       "      <td>2415841.00</td>\n",
       "      <td>114.00</td>\n",
       "      <td>5.00</td>\n",
       "      <td>29.50</td>\n",
       "    </tr>\n",
       "  </tbody>\n",
       "</table>\n",
       "</div>"
      ],
      "text/plain": [
       "       STORE_NBR  LYLTY_CARD_NBR     TXN_ID  PROD_NBR  PROD_QTY  TOT_SALES\n",
       "count  246740.00       246740.00  246740.00 246740.00 246740.00  246740.00\n",
       "mean      135.05       135530.25  135130.36     56.35      1.91       7.32\n",
       "std        76.79        80715.20   78147.60     33.70      0.34       2.47\n",
       "min         1.00         1000.00       1.00      1.00      1.00       1.70\n",
       "25%        70.00        70015.00   67568.75     26.00      2.00       5.80\n",
       "50%       130.00       130367.00  135181.50     53.00      2.00       7.40\n",
       "75%       203.00       203083.25  202652.25     87.00      2.00       8.80\n",
       "max       272.00      2373711.00 2415841.00    114.00      5.00      29.50"
      ]
     },
     "execution_count": 152,
     "metadata": {},
     "output_type": "execute_result"
    }
   ],
   "source": [
    "# dropping outlier\n",
    "df_transactions = df_transactions[df_transactions['PROD_QTY']<100].reset_index(drop=True)\n",
    "df_transactions.describe()"
   ]
  },
  {
   "cell_type": "code",
   "execution_count": 153,
   "id": "6cc058fc-b5a1-41ab-baa5-7c24cb8791ec",
   "metadata": {},
   "outputs": [],
   "source": [
    "#list of top selling products.\n",
    "sales = df_transactions.groupby(by=['PROD_NAME'], as_index=False)['TOT_SALES'].sum().sort_values(by = 'TOT_SALES',ascending = False)"
   ]
  },
  {
   "cell_type": "code",
   "execution_count": 154,
   "id": "041517af-2106-4495-96f2-68fb32d7bd54",
   "metadata": {},
   "outputs": [
    {
     "data": {
      "text/plain": [
       "<bound method DataFrame.info of                                     PROD_NAME  TOT_SALES\n",
       "11           Dorito Corn Chp     Supreme 380g   39052.00\n",
       "79     Smiths Crnkle Chip  Orgnl Big Bag 380g   36367.60\n",
       "71   Smiths Crinkle Chips Salt & Vinegar 330g   34804.20\n",
       "30     Kettle Mozzarella   Basil & Pesto 175g   34457.40\n",
       "70          Smiths Crinkle      Original 330g   34302.60\n",
       "..                                        ...        ...\n",
       "104            Woolworths Cheese   Rings 190g    5169.60\n",
       "82       Snbts Whlgrn Crisps Cheddr&Mstrd 90g    5076.20\n",
       "97           WW Crinkle Cut      Chicken 175g    4702.20\n",
       "83   Sunbites Whlegrn    Crisps Frch/Onin 90g    4600.20\n",
       "98          WW Crinkle Cut      Original 175g    4532.20\n",
       "\n",
       "[105 rows x 2 columns]>"
      ]
     },
     "execution_count": 154,
     "metadata": {},
     "output_type": "execute_result"
    }
   ],
   "source": [
    "sales.info"
   ]
  },
  {
   "cell_type": "code",
   "execution_count": 155,
   "id": "7b8bc012-0570-4488-9bce-1d39231fc898",
   "metadata": {},
   "outputs": [
    {
     "data": {
      "text/html": [
       "<div>\n",
       "<style scoped>\n",
       "    .dataframe tbody tr th:only-of-type {\n",
       "        vertical-align: middle;\n",
       "    }\n",
       "\n",
       "    .dataframe tbody tr th {\n",
       "        vertical-align: top;\n",
       "    }\n",
       "\n",
       "    .dataframe thead th {\n",
       "        text-align: right;\n",
       "    }\n",
       "</style>\n",
       "<table border=\"1\" class=\"dataframe\">\n",
       "  <thead>\n",
       "    <tr style=\"text-align: right;\">\n",
       "      <th></th>\n",
       "      <th>PROD_NAME</th>\n",
       "      <th>TOT_SALES</th>\n",
       "    </tr>\n",
       "  </thead>\n",
       "  <tbody>\n",
       "    <tr>\n",
       "      <th>11</th>\n",
       "      <td>Dorito Corn Chp     Supreme 380g</td>\n",
       "      <td>39052.00</td>\n",
       "    </tr>\n",
       "    <tr>\n",
       "      <th>79</th>\n",
       "      <td>Smiths Crnkle Chip  Orgnl Big Bag 380g</td>\n",
       "      <td>36367.60</td>\n",
       "    </tr>\n",
       "    <tr>\n",
       "      <th>71</th>\n",
       "      <td>Smiths Crinkle Chips Salt &amp; Vinegar 330g</td>\n",
       "      <td>34804.20</td>\n",
       "    </tr>\n",
       "    <tr>\n",
       "      <th>30</th>\n",
       "      <td>Kettle Mozzarella   Basil &amp; Pesto 175g</td>\n",
       "      <td>34457.40</td>\n",
       "    </tr>\n",
       "    <tr>\n",
       "      <th>70</th>\n",
       "      <td>Smiths Crinkle      Original 330g</td>\n",
       "      <td>34302.60</td>\n",
       "    </tr>\n",
       "  </tbody>\n",
       "</table>\n",
       "</div>"
      ],
      "text/plain": [
       "                                   PROD_NAME  TOT_SALES\n",
       "11          Dorito Corn Chp     Supreme 380g   39052.00\n",
       "79    Smiths Crnkle Chip  Orgnl Big Bag 380g   36367.60\n",
       "71  Smiths Crinkle Chips Salt & Vinegar 330g   34804.20\n",
       "30    Kettle Mozzarella   Basil & Pesto 175g   34457.40\n",
       "70         Smiths Crinkle      Original 330g   34302.60"
      ]
     },
     "execution_count": 155,
     "metadata": {},
     "output_type": "execute_result"
    }
   ],
   "source": [
    "\n",
    "sales.head(5)"
   ]
  },
  {
   "cell_type": "code",
   "execution_count": 156,
   "id": "f1b1018c-b089-4938-88a4-672945e78703",
   "metadata": {},
   "outputs": [],
   "source": [
    "# Separating the weight(Packet-size) from the product\n",
    "df_transactions['WEIGHT']= df_transactions['PROD_NAME'].str[-4:] "
   ]
  },
  {
   "cell_type": "code",
   "execution_count": 157,
   "id": "2b28173b-12dd-4a76-86fb-81816451d979",
   "metadata": {},
   "outputs": [],
   "source": [
    "#Changing the order of the dataframe so that the weight is next to the product\n",
    "df_transactions = df_transactions.iloc[:,[0,1,2,3,4,5,8,6,7]]"
   ]
  },
  {
   "cell_type": "code",
   "execution_count": 158,
   "id": "b0dc8dae-9b32-45d4-9099-41a604db09a1",
   "metadata": {},
   "outputs": [
    {
     "name": "stdout",
     "output_type": "stream",
     "text": [
      "Largest Packet Size: 380g\n",
      "Smallest Packet Size:  70g\n"
     ]
    }
   ],
   "source": [
    "print(\"Largest Packet Size: \"+str(max(df_transactions[\"WEIGHT\"])))\n",
    "print(\"Smallest Packet Size: \"+str(min(df_transactions[\"WEIGHT\"])))"
   ]
  },
  {
   "cell_type": "code",
   "execution_count": 159,
   "id": "cb92df4b-d1b0-44f3-bfbd-ec4be8d61a81",
   "metadata": {},
   "outputs": [],
   "source": [
    "#Adding Brand name as new column it is the first word in \"PROD_NAME\" column\n",
    "def Product_Company(grp):\n",
    "    return grp[\"PROD_NAME\"].split()[0]"
   ]
  },
  {
   "cell_type": "code",
   "execution_count": 160,
   "id": "81e49845-5bf4-4b44-8084-ba262876b695",
   "metadata": {},
   "outputs": [
    {
     "data": {
      "text/html": [
       "<div>\n",
       "<style scoped>\n",
       "    .dataframe tbody tr th:only-of-type {\n",
       "        vertical-align: middle;\n",
       "    }\n",
       "\n",
       "    .dataframe tbody tr th {\n",
       "        vertical-align: top;\n",
       "    }\n",
       "\n",
       "    .dataframe thead th {\n",
       "        text-align: right;\n",
       "    }\n",
       "</style>\n",
       "<table border=\"1\" class=\"dataframe\">\n",
       "  <thead>\n",
       "    <tr style=\"text-align: right;\">\n",
       "      <th></th>\n",
       "      <th>DATE</th>\n",
       "      <th>STORE_NBR</th>\n",
       "      <th>LYLTY_CARD_NBR</th>\n",
       "      <th>TXN_ID</th>\n",
       "      <th>PROD_NBR</th>\n",
       "      <th>PROD_NAME</th>\n",
       "      <th>WEIGHT</th>\n",
       "      <th>PROD_QTY</th>\n",
       "      <th>TOT_SALES</th>\n",
       "      <th>BRAND</th>\n",
       "    </tr>\n",
       "  </thead>\n",
       "  <tbody>\n",
       "    <tr>\n",
       "      <th>0</th>\n",
       "      <td>2018-10-17</td>\n",
       "      <td>1</td>\n",
       "      <td>1000</td>\n",
       "      <td>1</td>\n",
       "      <td>5</td>\n",
       "      <td>Natural Chip        Compny SeaSalt175g</td>\n",
       "      <td>175g</td>\n",
       "      <td>2</td>\n",
       "      <td>6.00</td>\n",
       "      <td>Natural</td>\n",
       "    </tr>\n",
       "    <tr>\n",
       "      <th>1</th>\n",
       "      <td>2019-05-14</td>\n",
       "      <td>1</td>\n",
       "      <td>1307</td>\n",
       "      <td>348</td>\n",
       "      <td>66</td>\n",
       "      <td>CCs Nacho Cheese    175g</td>\n",
       "      <td>175g</td>\n",
       "      <td>3</td>\n",
       "      <td>6.30</td>\n",
       "      <td>CCs</td>\n",
       "    </tr>\n",
       "    <tr>\n",
       "      <th>2</th>\n",
       "      <td>2019-05-20</td>\n",
       "      <td>1</td>\n",
       "      <td>1343</td>\n",
       "      <td>383</td>\n",
       "      <td>61</td>\n",
       "      <td>Smiths Crinkle Cut  Chips Chicken 170g</td>\n",
       "      <td>170g</td>\n",
       "      <td>2</td>\n",
       "      <td>2.90</td>\n",
       "      <td>Smiths</td>\n",
       "    </tr>\n",
       "    <tr>\n",
       "      <th>3</th>\n",
       "      <td>2018-08-17</td>\n",
       "      <td>2</td>\n",
       "      <td>2373</td>\n",
       "      <td>974</td>\n",
       "      <td>69</td>\n",
       "      <td>Smiths Chip Thinly  S/Cream&amp;Onion 175g</td>\n",
       "      <td>175g</td>\n",
       "      <td>5</td>\n",
       "      <td>15.00</td>\n",
       "      <td>Smiths</td>\n",
       "    </tr>\n",
       "    <tr>\n",
       "      <th>4</th>\n",
       "      <td>2018-08-18</td>\n",
       "      <td>2</td>\n",
       "      <td>2426</td>\n",
       "      <td>1038</td>\n",
       "      <td>108</td>\n",
       "      <td>Kettle Tortilla ChpsHny&amp;Jlpno Chili 150g</td>\n",
       "      <td>150g</td>\n",
       "      <td>3</td>\n",
       "      <td>13.80</td>\n",
       "      <td>Kettle</td>\n",
       "    </tr>\n",
       "  </tbody>\n",
       "</table>\n",
       "</div>"
      ],
      "text/plain": [
       "        DATE  STORE_NBR  LYLTY_CARD_NBR  TXN_ID  PROD_NBR  \\\n",
       "0 2018-10-17          1            1000       1         5   \n",
       "1 2019-05-14          1            1307     348        66   \n",
       "2 2019-05-20          1            1343     383        61   \n",
       "3 2018-08-17          2            2373     974        69   \n",
       "4 2018-08-18          2            2426    1038       108   \n",
       "\n",
       "                                  PROD_NAME WEIGHT  PROD_QTY  TOT_SALES  \\\n",
       "0    Natural Chip        Compny SeaSalt175g   175g         2       6.00   \n",
       "1                  CCs Nacho Cheese    175g   175g         3       6.30   \n",
       "2    Smiths Crinkle Cut  Chips Chicken 170g   170g         2       2.90   \n",
       "3    Smiths Chip Thinly  S/Cream&Onion 175g   175g         5      15.00   \n",
       "4  Kettle Tortilla ChpsHny&Jlpno Chili 150g   150g         3      13.80   \n",
       "\n",
       "     BRAND  \n",
       "0  Natural  \n",
       "1      CCs  \n",
       "2   Smiths  \n",
       "3   Smiths  \n",
       "4   Kettle  "
      ]
     },
     "execution_count": 160,
     "metadata": {},
     "output_type": "execute_result"
    }
   ],
   "source": [
    "#applying extra column\n",
    "df_transactions[\"BRAND\"] = df_transactions.apply(Product_Company,axis=1)\n",
    "df_transactions.head()"
   ]
  },
  {
   "cell_type": "code",
   "execution_count": 161,
   "id": "63ae72bf-323d-4e8f-ae17-b7b4af5c9e5c",
   "metadata": {},
   "outputs": [
    {
     "data": {
      "text/html": [
       "<div>\n",
       "<style scoped>\n",
       "    .dataframe tbody tr th:only-of-type {\n",
       "        vertical-align: middle;\n",
       "    }\n",
       "\n",
       "    .dataframe tbody tr th {\n",
       "        vertical-align: top;\n",
       "    }\n",
       "\n",
       "    .dataframe thead th {\n",
       "        text-align: right;\n",
       "    }\n",
       "</style>\n",
       "<table border=\"1\" class=\"dataframe\">\n",
       "  <thead>\n",
       "    <tr style=\"text-align: right;\">\n",
       "      <th></th>\n",
       "      <th>DATE</th>\n",
       "      <th>STORE_NBR</th>\n",
       "      <th>LYLTY_CARD_NBR</th>\n",
       "      <th>TXN_ID</th>\n",
       "      <th>PROD_NBR</th>\n",
       "      <th>PROD_NAME</th>\n",
       "      <th>WEIGHT</th>\n",
       "      <th>PROD_QTY</th>\n",
       "      <th>TOT_SALES</th>\n",
       "      <th>BRAND</th>\n",
       "    </tr>\n",
       "  </thead>\n",
       "  <tbody>\n",
       "    <tr>\n",
       "      <th>0</th>\n",
       "      <td>2018-10-17</td>\n",
       "      <td>1</td>\n",
       "      <td>1000</td>\n",
       "      <td>1</td>\n",
       "      <td>5</td>\n",
       "      <td>Natural Chip        Compny SeaSalt175g</td>\n",
       "      <td>175g</td>\n",
       "      <td>2</td>\n",
       "      <td>6.00</td>\n",
       "      <td>NATURAL</td>\n",
       "    </tr>\n",
       "    <tr>\n",
       "      <th>1</th>\n",
       "      <td>2019-05-14</td>\n",
       "      <td>1</td>\n",
       "      <td>1307</td>\n",
       "      <td>348</td>\n",
       "      <td>66</td>\n",
       "      <td>CCs Nacho Cheese    175g</td>\n",
       "      <td>175g</td>\n",
       "      <td>3</td>\n",
       "      <td>6.30</td>\n",
       "      <td>CCS</td>\n",
       "    </tr>\n",
       "    <tr>\n",
       "      <th>2</th>\n",
       "      <td>2019-05-20</td>\n",
       "      <td>1</td>\n",
       "      <td>1343</td>\n",
       "      <td>383</td>\n",
       "      <td>61</td>\n",
       "      <td>Smiths Crinkle Cut  Chips Chicken 170g</td>\n",
       "      <td>170g</td>\n",
       "      <td>2</td>\n",
       "      <td>2.90</td>\n",
       "      <td>SMITHS</td>\n",
       "    </tr>\n",
       "    <tr>\n",
       "      <th>3</th>\n",
       "      <td>2018-08-17</td>\n",
       "      <td>2</td>\n",
       "      <td>2373</td>\n",
       "      <td>974</td>\n",
       "      <td>69</td>\n",
       "      <td>Smiths Chip Thinly  S/Cream&amp;Onion 175g</td>\n",
       "      <td>175g</td>\n",
       "      <td>5</td>\n",
       "      <td>15.00</td>\n",
       "      <td>SMITHS</td>\n",
       "    </tr>\n",
       "    <tr>\n",
       "      <th>4</th>\n",
       "      <td>2018-08-18</td>\n",
       "      <td>2</td>\n",
       "      <td>2426</td>\n",
       "      <td>1038</td>\n",
       "      <td>108</td>\n",
       "      <td>Kettle Tortilla ChpsHny&amp;Jlpno Chili 150g</td>\n",
       "      <td>150g</td>\n",
       "      <td>3</td>\n",
       "      <td>13.80</td>\n",
       "      <td>KETTLE</td>\n",
       "    </tr>\n",
       "  </tbody>\n",
       "</table>\n",
       "</div>"
      ],
      "text/plain": [
       "        DATE  STORE_NBR  LYLTY_CARD_NBR  TXN_ID  PROD_NBR  \\\n",
       "0 2018-10-17          1            1000       1         5   \n",
       "1 2019-05-14          1            1307     348        66   \n",
       "2 2019-05-20          1            1343     383        61   \n",
       "3 2018-08-17          2            2373     974        69   \n",
       "4 2018-08-18          2            2426    1038       108   \n",
       "\n",
       "                                  PROD_NAME WEIGHT  PROD_QTY  TOT_SALES  \\\n",
       "0    Natural Chip        Compny SeaSalt175g   175g         2       6.00   \n",
       "1                  CCs Nacho Cheese    175g   175g         3       6.30   \n",
       "2    Smiths Crinkle Cut  Chips Chicken 170g   170g         2       2.90   \n",
       "3    Smiths Chip Thinly  S/Cream&Onion 175g   175g         5      15.00   \n",
       "4  Kettle Tortilla ChpsHny&Jlpno Chili 150g   150g         3      13.80   \n",
       "\n",
       "     BRAND  \n",
       "0  NATURAL  \n",
       "1      CCS  \n",
       "2   SMITHS  \n",
       "3   SMITHS  \n",
       "4   KETTLE  "
      ]
     },
     "execution_count": 161,
     "metadata": {},
     "output_type": "execute_result"
    }
   ],
   "source": [
    "# Replacing Brands short forms in PROD_NAMES with original brand names\n",
    "names = {'red':'RRD','ww':'WOOLWORTHS','ncc':'NATURAL','snbts':'SUNBITES','infzns':'INFUZIONS','smith':'SMITHS','dorito':'DORITOS','grain':'GRNWVES'}\n",
    "df_transactions['BRAND'] = df_transactions['BRAND'].str.lower().replace(names).str.upper()\n",
    "df_transactions.head()"
   ]
  },
  {
   "cell_type": "code",
   "execution_count": 162,
   "id": "915c8726-e50e-402c-a2b9-fbbafb012d38",
   "metadata": {},
   "outputs": [],
   "source": [
    "# removing the first word from product name\n",
    "df_transactions['PROD_DESC'] = df_transactions['PROD_NAME'].str.split(n=1).str[1]"
   ]
  },
  {
   "cell_type": "code",
   "execution_count": 163,
   "id": "599ad3ca-db6a-4612-9ca3-326f280ef5c7",
   "metadata": {},
   "outputs": [],
   "source": [
    "#removing the last word further to get the product description\n",
    "df_transactions['PROD_DESC']=df_transactions['PROD_DESC'].str.rsplit(' ',1).str[0]\n"
   ]
  },
  {
   "cell_type": "code",
   "execution_count": 164,
   "id": "ba37cc03-6553-4675-84f7-fc27d8fb4283",
   "metadata": {},
   "outputs": [],
   "source": [
    "# Merge the datasets to create customer transaction dataframe\n",
    "df_custrans = pd.merge(df_customer,df_transactions,on = \"LYLTY_CARD_NBR\", how = \"outer\")"
   ]
  },
  {
   "cell_type": "code",
   "execution_count": 165,
   "id": "f1f6f9a7-9f78-4733-b28c-4e7763ae1384",
   "metadata": {},
   "outputs": [],
   "source": [
    "# rearranging the order\n",
    "df_custrans = df_custrans.iloc[:,[0,1,2,3,4,5,6,7,8,11,12,9,10]]"
   ]
  },
  {
   "cell_type": "code",
   "execution_count": 166,
   "id": "6180fbe2-3055-4856-92fe-aaea7bb58ff3",
   "metadata": {},
   "outputs": [
    {
     "data": {
      "text/html": [
       "<div>\n",
       "<style scoped>\n",
       "    .dataframe tbody tr th:only-of-type {\n",
       "        vertical-align: middle;\n",
       "    }\n",
       "\n",
       "    .dataframe tbody tr th {\n",
       "        vertical-align: top;\n",
       "    }\n",
       "\n",
       "    .dataframe thead th {\n",
       "        text-align: right;\n",
       "    }\n",
       "</style>\n",
       "<table border=\"1\" class=\"dataframe\">\n",
       "  <thead>\n",
       "    <tr style=\"text-align: right;\">\n",
       "      <th></th>\n",
       "      <th>LYLTY_CARD_NBR</th>\n",
       "      <th>LIFESTAGE</th>\n",
       "      <th>PREMIUM_CUSTOMER</th>\n",
       "      <th>DATE</th>\n",
       "      <th>STORE_NBR</th>\n",
       "      <th>TXN_ID</th>\n",
       "      <th>PROD_NBR</th>\n",
       "      <th>PROD_NAME</th>\n",
       "      <th>WEIGHT</th>\n",
       "      <th>BRAND</th>\n",
       "      <th>PROD_DESC</th>\n",
       "      <th>PROD_QTY</th>\n",
       "      <th>TOT_SALES</th>\n",
       "    </tr>\n",
       "  </thead>\n",
       "  <tbody>\n",
       "    <tr>\n",
       "      <th>0</th>\n",
       "      <td>1000</td>\n",
       "      <td>YOUNG SINGLES/COUPLES</td>\n",
       "      <td>Premium</td>\n",
       "      <td>2018-10-17</td>\n",
       "      <td>1.00</td>\n",
       "      <td>1.00</td>\n",
       "      <td>5.00</td>\n",
       "      <td>Natural Chip        Compny SeaSalt175g</td>\n",
       "      <td>175g</td>\n",
       "      <td>NATURAL</td>\n",
       "      <td>Chip        Compny</td>\n",
       "      <td>2.00</td>\n",
       "      <td>6.00</td>\n",
       "    </tr>\n",
       "    <tr>\n",
       "      <th>1</th>\n",
       "      <td>1002</td>\n",
       "      <td>YOUNG SINGLES/COUPLES</td>\n",
       "      <td>Mainstream</td>\n",
       "      <td>2018-09-16</td>\n",
       "      <td>1.00</td>\n",
       "      <td>2.00</td>\n",
       "      <td>58.00</td>\n",
       "      <td>Red Rock Deli Chikn&amp;Garlic Aioli 150g</td>\n",
       "      <td>150g</td>\n",
       "      <td>RRD</td>\n",
       "      <td>Rock Deli Chikn&amp;Garlic Aioli</td>\n",
       "      <td>1.00</td>\n",
       "      <td>2.70</td>\n",
       "    </tr>\n",
       "    <tr>\n",
       "      <th>2</th>\n",
       "      <td>1003</td>\n",
       "      <td>YOUNG FAMILIES</td>\n",
       "      <td>Budget</td>\n",
       "      <td>2019-03-07</td>\n",
       "      <td>1.00</td>\n",
       "      <td>3.00</td>\n",
       "      <td>52.00</td>\n",
       "      <td>Grain Waves Sour    Cream&amp;Chives 210G</td>\n",
       "      <td>210G</td>\n",
       "      <td>GRNWVES</td>\n",
       "      <td>Waves Sour    Cream&amp;Chives</td>\n",
       "      <td>1.00</td>\n",
       "      <td>3.60</td>\n",
       "    </tr>\n",
       "    <tr>\n",
       "      <th>3</th>\n",
       "      <td>1003</td>\n",
       "      <td>YOUNG FAMILIES</td>\n",
       "      <td>Budget</td>\n",
       "      <td>2019-03-08</td>\n",
       "      <td>1.00</td>\n",
       "      <td>4.00</td>\n",
       "      <td>106.00</td>\n",
       "      <td>Natural ChipCo      Hony Soy Chckn175g</td>\n",
       "      <td>175g</td>\n",
       "      <td>NATURAL</td>\n",
       "      <td>ChipCo      Hony Soy</td>\n",
       "      <td>1.00</td>\n",
       "      <td>3.00</td>\n",
       "    </tr>\n",
       "    <tr>\n",
       "      <th>4</th>\n",
       "      <td>1004</td>\n",
       "      <td>OLDER SINGLES/COUPLES</td>\n",
       "      <td>Mainstream</td>\n",
       "      <td>2018-11-02</td>\n",
       "      <td>1.00</td>\n",
       "      <td>5.00</td>\n",
       "      <td>96.00</td>\n",
       "      <td>WW Original Stacked Chips 160g</td>\n",
       "      <td>160g</td>\n",
       "      <td>WOOLWORTHS</td>\n",
       "      <td>Original Stacked Chips</td>\n",
       "      <td>1.00</td>\n",
       "      <td>1.90</td>\n",
       "    </tr>\n",
       "  </tbody>\n",
       "</table>\n",
       "</div>"
      ],
      "text/plain": [
       "   LYLTY_CARD_NBR              LIFESTAGE PREMIUM_CUSTOMER       DATE  \\\n",
       "0            1000  YOUNG SINGLES/COUPLES          Premium 2018-10-17   \n",
       "1            1002  YOUNG SINGLES/COUPLES       Mainstream 2018-09-16   \n",
       "2            1003         YOUNG FAMILIES           Budget 2019-03-07   \n",
       "3            1003         YOUNG FAMILIES           Budget 2019-03-08   \n",
       "4            1004  OLDER SINGLES/COUPLES       Mainstream 2018-11-02   \n",
       "\n",
       "   STORE_NBR  TXN_ID  PROD_NBR                               PROD_NAME WEIGHT  \\\n",
       "0       1.00    1.00      5.00  Natural Chip        Compny SeaSalt175g   175g   \n",
       "1       1.00    2.00     58.00   Red Rock Deli Chikn&Garlic Aioli 150g   150g   \n",
       "2       1.00    3.00     52.00   Grain Waves Sour    Cream&Chives 210G   210G   \n",
       "3       1.00    4.00    106.00  Natural ChipCo      Hony Soy Chckn175g   175g   \n",
       "4       1.00    5.00     96.00          WW Original Stacked Chips 160g   160g   \n",
       "\n",
       "        BRAND                     PROD_DESC  PROD_QTY  TOT_SALES  \n",
       "0     NATURAL            Chip        Compny      2.00       6.00  \n",
       "1         RRD  Rock Deli Chikn&Garlic Aioli      1.00       2.70  \n",
       "2     GRNWVES    Waves Sour    Cream&Chives      1.00       3.60  \n",
       "3     NATURAL          ChipCo      Hony Soy      1.00       3.00  \n",
       "4  WOOLWORTHS        Original Stacked Chips      1.00       1.90  "
      ]
     },
     "execution_count": 166,
     "metadata": {},
     "output_type": "execute_result"
    }
   ],
   "source": [
    "df_custrans.head()"
   ]
  },
  {
   "cell_type": "code",
   "execution_count": 167,
   "id": "84391777-62b4-4395-b825-5dd2ebb36269",
   "metadata": {},
   "outputs": [
    {
     "data": {
      "text/plain": [
       "175g    64929\n",
       "150g    38705\n",
       "134g    25102\n",
       "110g    22387\n",
       "170g    19983\n",
       "165g    15297\n",
       "330g    12540\n",
       "380g     6416\n",
       "270g     6285\n",
       "200g     4473\n",
       "135g     3257\n",
       "250g     3169\n",
       "210g     3167\n",
       "210G     3105\n",
       " 90g     3008\n",
       "190g     2995\n",
       "160g     2970\n",
       "220g     1564\n",
       " 70g     1507\n",
       "150G     1498\n",
       "180g     1468\n",
       "175G     1461\n",
       "125g     1454\n",
       "Name: WEIGHT, dtype: int64"
      ]
     },
     "execution_count": 167,
     "metadata": {},
     "output_type": "execute_result"
    }
   ],
   "source": [
    "df_custrans.WEIGHT.value_counts()"
   ]
  },
  {
   "cell_type": "code",
   "execution_count": 168,
   "id": "dd04ecae-10f3-4c64-9367-925c384dd276",
   "metadata": {},
   "outputs": [
    {
     "data": {
      "text/plain": [
       "Original                          4673\n",
       "Mozzarella   Basil & Pesto        3304\n",
       "Tortilla ChpsHny&Jlpno Chili      3296\n",
       "Popd Swt/Chlli &Sr/Cream Chips    3269\n",
       "Crisps     Ched & Chives          3268\n",
       "                                  ... \n",
       "Whlegrn    Crisps Frch/Onin       1432\n",
       "Pc Sea Salt                       1431\n",
       "Sour Cream &    Garden Chives     1419\n",
       "Fries Potato Chips                1418\n",
       "Crinkle Cut      Original         1410\n",
       "Name: PROD_DESC, Length: 104, dtype: int64"
      ]
     },
     "execution_count": 168,
     "metadata": {},
     "output_type": "execute_result"
    }
   ],
   "source": [
    "df_custrans.PROD_DESC.value_counts()"
   ]
  },
  {
   "cell_type": "code",
   "execution_count": 169,
   "id": "4a8e8afd-f022-4180-b86f-ce07d6c78dca",
   "metadata": {},
   "outputs": [
    {
     "data": {
      "text/plain": [
       "KETTLE        41288\n",
       "SMITHS        30353\n",
       "DORITOS       25224\n",
       "PRINGLES      25102\n",
       "RRD           16321\n",
       "INFUZIONS     14201\n",
       "THINS         14075\n",
       "WOOLWORTHS    11836\n",
       "COBS           9693\n",
       "TOSTITOS       9471\n",
       "TWISTIES       9454\n",
       "GRNWVES        7740\n",
       "NATURAL        7469\n",
       "TYRRELLS       6442\n",
       "CHEEZELS       4603\n",
       "CCS            4551\n",
       "SUNBITES       3008\n",
       "CHEETOS        2927\n",
       "BURGER         1564\n",
       "FRENCH         1418\n",
       "Name: BRAND, dtype: int64"
      ]
     },
     "execution_count": 169,
     "metadata": {},
     "output_type": "execute_result"
    }
   ],
   "source": [
    "df_custrans.BRAND.value_counts()"
   ]
  },
  {
   "cell_type": "code",
   "execution_count": 170,
   "id": "eef9a0a0-a262-4b94-b1e1-58e93f7c0a20",
   "metadata": {},
   "outputs": [],
   "source": [
    "# cleaning the weight column some have G others g\n",
    "df_custrans[\"WEIGHT\"] = df_custrans[\"WEIGHT\"].replace({\"150G\": \"150g\",\"210G\":\"210g\",\"175G\":\"175g\"}, inplace=False)"
   ]
  },
  {
   "cell_type": "code",
   "execution_count": 171,
   "id": "d17c6e86-166f-42c3-8581-68ebebeaf401",
   "metadata": {},
   "outputs": [],
   "source": [
    "#Calculating top sellers\n",
    "df_topsellers = df_custrans.groupby(by=['PROD_NAME','WEIGHT'], as_index=False)['TOT_SALES'].sum().sort_values(by = 'TOT_SALES',ascending = False)"
   ]
  },
  {
   "cell_type": "code",
   "execution_count": 172,
   "id": "44590312-4d49-47f6-bcdf-d67f8ff370c7",
   "metadata": {},
   "outputs": [
    {
     "data": {
      "text/html": [
       "<div>\n",
       "<style scoped>\n",
       "    .dataframe tbody tr th:only-of-type {\n",
       "        vertical-align: middle;\n",
       "    }\n",
       "\n",
       "    .dataframe tbody tr th {\n",
       "        vertical-align: top;\n",
       "    }\n",
       "\n",
       "    .dataframe thead th {\n",
       "        text-align: right;\n",
       "    }\n",
       "</style>\n",
       "<table border=\"1\" class=\"dataframe\">\n",
       "  <thead>\n",
       "    <tr style=\"text-align: right;\">\n",
       "      <th></th>\n",
       "      <th>PROD_NAME</th>\n",
       "      <th>WEIGHT</th>\n",
       "      <th>TOT_SALES</th>\n",
       "    </tr>\n",
       "  </thead>\n",
       "  <tbody>\n",
       "    <tr>\n",
       "      <th>239</th>\n",
       "      <td>Dorito Corn Chp     Supreme 380g</td>\n",
       "      <td>380g</td>\n",
       "      <td>39052.00</td>\n",
       "    </tr>\n",
       "    <tr>\n",
       "      <th>1599</th>\n",
       "      <td>Smiths Crnkle Chip  Orgnl Big Bag 380g</td>\n",
       "      <td>380g</td>\n",
       "      <td>36367.60</td>\n",
       "    </tr>\n",
       "    <tr>\n",
       "      <th>1438</th>\n",
       "      <td>Smiths Crinkle Chips Salt &amp; Vinegar 330g</td>\n",
       "      <td>330g</td>\n",
       "      <td>34804.20</td>\n",
       "    </tr>\n",
       "    <tr>\n",
       "      <th>610</th>\n",
       "      <td>Kettle Mozzarella   Basil &amp; Pesto 175g</td>\n",
       "      <td>175g</td>\n",
       "      <td>34457.40</td>\n",
       "    </tr>\n",
       "    <tr>\n",
       "      <th>1418</th>\n",
       "      <td>Smiths Crinkle      Original 330g</td>\n",
       "      <td>330g</td>\n",
       "      <td>34302.60</td>\n",
       "    </tr>\n",
       "    <tr>\n",
       "      <th>...</th>\n",
       "      <td>...</td>\n",
       "      <td>...</td>\n",
       "      <td>...</td>\n",
       "    </tr>\n",
       "    <tr>\n",
       "      <th>713</th>\n",
       "      <td>Kettle Sensations   Siracha Lime 150g</td>\n",
       "      <td>200g</td>\n",
       "      <td>0.00</td>\n",
       "    </tr>\n",
       "    <tr>\n",
       "      <th>712</th>\n",
       "      <td>Kettle Sensations   Siracha Lime 150g</td>\n",
       "      <td>190g</td>\n",
       "      <td>0.00</td>\n",
       "    </tr>\n",
       "    <tr>\n",
       "      <th>711</th>\n",
       "      <td>Kettle Sensations   Siracha Lime 150g</td>\n",
       "      <td>180g</td>\n",
       "      <td>0.00</td>\n",
       "    </tr>\n",
       "    <tr>\n",
       "      <th>710</th>\n",
       "      <td>Kettle Sensations   Siracha Lime 150g</td>\n",
       "      <td>175g</td>\n",
       "      <td>0.00</td>\n",
       "    </tr>\n",
       "    <tr>\n",
       "      <th>2099</th>\n",
       "      <td>Woolworths Cheese   Rings 190g</td>\n",
       "      <td>380g</td>\n",
       "      <td>0.00</td>\n",
       "    </tr>\n",
       "  </tbody>\n",
       "</table>\n",
       "<p>2100 rows × 3 columns</p>\n",
       "</div>"
      ],
      "text/plain": [
       "                                     PROD_NAME WEIGHT  TOT_SALES\n",
       "239           Dorito Corn Chp     Supreme 380g   380g   39052.00\n",
       "1599    Smiths Crnkle Chip  Orgnl Big Bag 380g   380g   36367.60\n",
       "1438  Smiths Crinkle Chips Salt & Vinegar 330g   330g   34804.20\n",
       "610     Kettle Mozzarella   Basil & Pesto 175g   175g   34457.40\n",
       "1418         Smiths Crinkle      Original 330g   330g   34302.60\n",
       "...                                        ...    ...        ...\n",
       "713      Kettle Sensations   Siracha Lime 150g   200g       0.00\n",
       "712      Kettle Sensations   Siracha Lime 150g   190g       0.00\n",
       "711      Kettle Sensations   Siracha Lime 150g   180g       0.00\n",
       "710      Kettle Sensations   Siracha Lime 150g   175g       0.00\n",
       "2099            Woolworths Cheese   Rings 190g   380g       0.00\n",
       "\n",
       "[2100 rows x 3 columns]"
      ]
     },
     "execution_count": 172,
     "metadata": {},
     "output_type": "execute_result"
    }
   ],
   "source": [
    "df_topsellers"
   ]
  },
  {
   "cell_type": "code",
   "execution_count": 173,
   "id": "a32600d9-2460-4184-abcb-0ce93c96b2eb",
   "metadata": {},
   "outputs": [
    {
     "data": {
      "text/plain": [
       "<bound method DataFrame.info of                                      PROD_NAME WEIGHT  TOT_SALES\n",
       "239           Dorito Corn Chp     Supreme 380g   380g   39052.00\n",
       "1599    Smiths Crnkle Chip  Orgnl Big Bag 380g   380g   36367.60\n",
       "1438  Smiths Crinkle Chips Salt & Vinegar 330g   330g   34804.20\n",
       "610     Kettle Mozzarella   Basil & Pesto 175g   175g   34457.40\n",
       "1418         Smiths Crinkle      Original 330g   330g   34302.60\n",
       "...                                        ...    ...        ...\n",
       "713      Kettle Sensations   Siracha Lime 150g   200g       0.00\n",
       "712      Kettle Sensations   Siracha Lime 150g   190g       0.00\n",
       "711      Kettle Sensations   Siracha Lime 150g   180g       0.00\n",
       "710      Kettle Sensations   Siracha Lime 150g   175g       0.00\n",
       "2099            Woolworths Cheese   Rings 190g   380g       0.00\n",
       "\n",
       "[2100 rows x 3 columns]>"
      ]
     },
     "execution_count": 173,
     "metadata": {},
     "output_type": "execute_result"
    }
   ],
   "source": [
    "df_topsellers.info"
   ]
  },
  {
   "cell_type": "code",
   "execution_count": 174,
   "id": "2f2fe71f-9693-4af3-99b1-b8e8f523399c",
   "metadata": {},
   "outputs": [
    {
     "data": {
      "text/plain": [
       "175g    66390\n",
       "150g    40203\n",
       "134g    25102\n",
       "110g    22387\n",
       "170g    19983\n",
       "165g    15297\n",
       "330g    12540\n",
       "380g     6416\n",
       "270g     6285\n",
       "210g     6272\n",
       "200g     4473\n",
       "135g     3257\n",
       "250g     3169\n",
       " 90g     3008\n",
       "190g     2995\n",
       "160g     2970\n",
       "220g     1564\n",
       " 70g     1507\n",
       "180g     1468\n",
       "125g     1454\n",
       "Name: WEIGHT, dtype: int64"
      ]
     },
     "execution_count": 174,
     "metadata": {},
     "output_type": "execute_result"
    }
   ],
   "source": [
    "df_custrans.WEIGHT.value_counts()"
   ]
  },
  {
   "cell_type": "code",
   "execution_count": 175,
   "id": "4d2dbd3d-f185-4d3c-a80e-915d88f5cbd8",
   "metadata": {},
   "outputs": [],
   "source": [
    "# Is there a relationship between weight and sales\n",
    "df_weightsales = df_topsellers.groupby(by =['WEIGHT'], as_index=False)['TOT_SALES'].sum().sort_values(by ='TOT_SALES',ascending = False)"
   ]
  },
  {
   "cell_type": "code",
   "execution_count": 176,
   "id": "0fa1b938-1ea5-4d25-889c-6f317df9a8b4",
   "metadata": {},
   "outputs": [
    {
     "data": {
      "text/html": [
       "<div>\n",
       "<style scoped>\n",
       "    .dataframe tbody tr th:only-of-type {\n",
       "        vertical-align: middle;\n",
       "    }\n",
       "\n",
       "    .dataframe tbody tr th {\n",
       "        vertical-align: top;\n",
       "    }\n",
       "\n",
       "    .dataframe thead th {\n",
       "        text-align: right;\n",
       "    }\n",
       "</style>\n",
       "<table border=\"1\" class=\"dataframe\">\n",
       "  <thead>\n",
       "    <tr style=\"text-align: right;\">\n",
       "      <th></th>\n",
       "      <th>WEIGHT</th>\n",
       "      <th>TOT_SALES</th>\n",
       "    </tr>\n",
       "  </thead>\n",
       "  <tbody>\n",
       "    <tr>\n",
       "      <th>10</th>\n",
       "      <td>175g</td>\n",
       "      <td>485437.40</td>\n",
       "    </tr>\n",
       "    <tr>\n",
       "      <th>6</th>\n",
       "      <td>150g</td>\n",
       "      <td>289681.80</td>\n",
       "    </tr>\n",
       "    <tr>\n",
       "      <th>4</th>\n",
       "      <td>134g</td>\n",
       "      <td>177655.50</td>\n",
       "    </tr>\n",
       "    <tr>\n",
       "      <th>2</th>\n",
       "      <td>110g</td>\n",
       "      <td>162765.40</td>\n",
       "    </tr>\n",
       "    <tr>\n",
       "      <th>9</th>\n",
       "      <td>170g</td>\n",
       "      <td>146673.00</td>\n",
       "    </tr>\n",
       "    <tr>\n",
       "      <th>18</th>\n",
       "      <td>330g</td>\n",
       "      <td>136794.30</td>\n",
       "    </tr>\n",
       "    <tr>\n",
       "      <th>8</th>\n",
       "      <td>165g</td>\n",
       "      <td>101360.60</td>\n",
       "    </tr>\n",
       "    <tr>\n",
       "      <th>19</th>\n",
       "      <td>380g</td>\n",
       "      <td>75419.60</td>\n",
       "    </tr>\n",
       "    <tr>\n",
       "      <th>17</th>\n",
       "      <td>270g</td>\n",
       "      <td>55425.40</td>\n",
       "    </tr>\n",
       "    <tr>\n",
       "      <th>14</th>\n",
       "      <td>210g</td>\n",
       "      <td>43048.80</td>\n",
       "    </tr>\n",
       "    <tr>\n",
       "      <th>16</th>\n",
       "      <td>250g</td>\n",
       "      <td>26096.70</td>\n",
       "    </tr>\n",
       "    <tr>\n",
       "      <th>5</th>\n",
       "      <td>135g</td>\n",
       "      <td>26090.40</td>\n",
       "    </tr>\n",
       "    <tr>\n",
       "      <th>13</th>\n",
       "      <td>200g</td>\n",
       "      <td>16007.50</td>\n",
       "    </tr>\n",
       "    <tr>\n",
       "      <th>12</th>\n",
       "      <td>190g</td>\n",
       "      <td>14412.90</td>\n",
       "    </tr>\n",
       "    <tr>\n",
       "      <th>7</th>\n",
       "      <td>160g</td>\n",
       "      <td>10647.60</td>\n",
       "    </tr>\n",
       "    <tr>\n",
       "      <th>1</th>\n",
       "      <td>90g</td>\n",
       "      <td>9676.40</td>\n",
       "    </tr>\n",
       "    <tr>\n",
       "      <th>11</th>\n",
       "      <td>180g</td>\n",
       "      <td>8568.40</td>\n",
       "    </tr>\n",
       "    <tr>\n",
       "      <th>0</th>\n",
       "      <td>70g</td>\n",
       "      <td>6852.00</td>\n",
       "    </tr>\n",
       "    <tr>\n",
       "      <th>15</th>\n",
       "      <td>220g</td>\n",
       "      <td>6831.00</td>\n",
       "    </tr>\n",
       "    <tr>\n",
       "      <th>3</th>\n",
       "      <td>125g</td>\n",
       "      <td>5733.00</td>\n",
       "    </tr>\n",
       "  </tbody>\n",
       "</table>\n",
       "</div>"
      ],
      "text/plain": [
       "   WEIGHT  TOT_SALES\n",
       "10   175g  485437.40\n",
       "6    150g  289681.80\n",
       "4    134g  177655.50\n",
       "2    110g  162765.40\n",
       "9    170g  146673.00\n",
       "18   330g  136794.30\n",
       "8    165g  101360.60\n",
       "19   380g   75419.60\n",
       "17   270g   55425.40\n",
       "14   210g   43048.80\n",
       "16   250g   26096.70\n",
       "5    135g   26090.40\n",
       "13   200g   16007.50\n",
       "12   190g   14412.90\n",
       "7    160g   10647.60\n",
       "1     90g    9676.40\n",
       "11   180g    8568.40\n",
       "0     70g    6852.00\n",
       "15   220g    6831.00\n",
       "3    125g    5733.00"
      ]
     },
     "execution_count": 176,
     "metadata": {},
     "output_type": "execute_result"
    }
   ],
   "source": [
    "df_weightsales"
   ]
  },
  {
   "cell_type": "code",
   "execution_count": 177,
   "id": "85339c9a-72dc-4e76-8155-324fa627b09a",
   "metadata": {},
   "outputs": [
    {
     "data": {
      "image/png": "[encoded data removed]",
      "text/plain": [
       "<Figure size 1440x720 with 1 Axes>"
      ]
     },
     "metadata": {},
     "output_type": "display_data"
    }
   ],
   "source": [
    "#relationship between purchases and weight\n",
    "df_weightsales.plot.bar(x =\"WEIGHT\",y= \"TOT_SALES\", color = 'Green',figsize=(20,10))\n",
    "plt.title(\"Total sales by packet weight\")\n",
    "plt.xlabel(\"WEIGHT\",fontsize=15,labelpad = 15)\n",
    "plt.ylabel(\"TOT_SALES\", fontsize =15,labelpad=10)\n",
    "plt.show()\n"
   ]
  },
  {
   "cell_type": "code",
   "execution_count": 178,
   "id": "12b372e3-ab32-4f5b-9abc-41679c3821ba",
   "metadata": {},
   "outputs": [],
   "source": [
    "#expenditure by lifestage\n",
    "totalsales_cust= df_custrans.groupby(['LIFESTAGE','PREMIUM_CUSTOMER'])[['TOT_SALES']].sum().reset_index()\n",
    "totalsales_cust = totalsales_cust.sort_values('TOT_SALES', ascending=False)"
   ]
  },
  {
   "cell_type": "code",
   "execution_count": 179,
   "id": "14f6f2ee-0c52-469a-87ea-9163a329004b",
   "metadata": {},
   "outputs": [
    {
     "data": {
      "text/html": [
       "<div>\n",
       "<style scoped>\n",
       "    .dataframe tbody tr th:only-of-type {\n",
       "        vertical-align: middle;\n",
       "    }\n",
       "\n",
       "    .dataframe tbody tr th {\n",
       "        vertical-align: top;\n",
       "    }\n",
       "\n",
       "    .dataframe thead th {\n",
       "        text-align: right;\n",
       "    }\n",
       "</style>\n",
       "<table border=\"1\" class=\"dataframe\">\n",
       "  <thead>\n",
       "    <tr style=\"text-align: right;\">\n",
       "      <th></th>\n",
       "      <th>LIFESTAGE</th>\n",
       "      <th>PREMIUM_CUSTOMER</th>\n",
       "      <th>TOT_SALES</th>\n",
       "    </tr>\n",
       "  </thead>\n",
       "  <tbody>\n",
       "    <tr>\n",
       "      <th>6</th>\n",
       "      <td>OLDER FAMILIES</td>\n",
       "      <td>Budget</td>\n",
       "      <td>156863.75</td>\n",
       "    </tr>\n",
       "    <tr>\n",
       "      <th>19</th>\n",
       "      <td>YOUNG SINGLES/COUPLES</td>\n",
       "      <td>Mainstream</td>\n",
       "      <td>147582.20</td>\n",
       "    </tr>\n",
       "    <tr>\n",
       "      <th>13</th>\n",
       "      <td>RETIREES</td>\n",
       "      <td>Mainstream</td>\n",
       "      <td>145168.95</td>\n",
       "    </tr>\n",
       "    <tr>\n",
       "      <th>15</th>\n",
       "      <td>YOUNG FAMILIES</td>\n",
       "      <td>Budget</td>\n",
       "      <td>129717.95</td>\n",
       "    </tr>\n",
       "    <tr>\n",
       "      <th>9</th>\n",
       "      <td>OLDER SINGLES/COUPLES</td>\n",
       "      <td>Budget</td>\n",
       "      <td>127833.60</td>\n",
       "    </tr>\n",
       "    <tr>\n",
       "      <th>10</th>\n",
       "      <td>OLDER SINGLES/COUPLES</td>\n",
       "      <td>Mainstream</td>\n",
       "      <td>124648.50</td>\n",
       "    </tr>\n",
       "    <tr>\n",
       "      <th>11</th>\n",
       "      <td>OLDER SINGLES/COUPLES</td>\n",
       "      <td>Premium</td>\n",
       "      <td>123537.55</td>\n",
       "    </tr>\n",
       "    <tr>\n",
       "      <th>12</th>\n",
       "      <td>RETIREES</td>\n",
       "      <td>Budget</td>\n",
       "      <td>105916.30</td>\n",
       "    </tr>\n",
       "    <tr>\n",
       "      <th>7</th>\n",
       "      <td>OLDER FAMILIES</td>\n",
       "      <td>Mainstream</td>\n",
       "      <td>96413.55</td>\n",
       "    </tr>\n",
       "    <tr>\n",
       "      <th>14</th>\n",
       "      <td>RETIREES</td>\n",
       "      <td>Premium</td>\n",
       "      <td>91296.65</td>\n",
       "    </tr>\n",
       "    <tr>\n",
       "      <th>16</th>\n",
       "      <td>YOUNG FAMILIES</td>\n",
       "      <td>Mainstream</td>\n",
       "      <td>86338.25</td>\n",
       "    </tr>\n",
       "    <tr>\n",
       "      <th>1</th>\n",
       "      <td>MIDAGE SINGLES/COUPLES</td>\n",
       "      <td>Mainstream</td>\n",
       "      <td>84734.25</td>\n",
       "    </tr>\n",
       "    <tr>\n",
       "      <th>17</th>\n",
       "      <td>YOUNG FAMILIES</td>\n",
       "      <td>Premium</td>\n",
       "      <td>78571.70</td>\n",
       "    </tr>\n",
       "    <tr>\n",
       "      <th>8</th>\n",
       "      <td>OLDER FAMILIES</td>\n",
       "      <td>Premium</td>\n",
       "      <td>75242.60</td>\n",
       "    </tr>\n",
       "    <tr>\n",
       "      <th>18</th>\n",
       "      <td>YOUNG SINGLES/COUPLES</td>\n",
       "      <td>Budget</td>\n",
       "      <td>57122.10</td>\n",
       "    </tr>\n",
       "    <tr>\n",
       "      <th>2</th>\n",
       "      <td>MIDAGE SINGLES/COUPLES</td>\n",
       "      <td>Premium</td>\n",
       "      <td>54443.85</td>\n",
       "    </tr>\n",
       "    <tr>\n",
       "      <th>20</th>\n",
       "      <td>YOUNG SINGLES/COUPLES</td>\n",
       "      <td>Premium</td>\n",
       "      <td>39052.30</td>\n",
       "    </tr>\n",
       "    <tr>\n",
       "      <th>0</th>\n",
       "      <td>MIDAGE SINGLES/COUPLES</td>\n",
       "      <td>Budget</td>\n",
       "      <td>33345.70</td>\n",
       "    </tr>\n",
       "    <tr>\n",
       "      <th>3</th>\n",
       "      <td>NEW FAMILIES</td>\n",
       "      <td>Budget</td>\n",
       "      <td>20607.45</td>\n",
       "    </tr>\n",
       "    <tr>\n",
       "      <th>4</th>\n",
       "      <td>NEW FAMILIES</td>\n",
       "      <td>Mainstream</td>\n",
       "      <td>15979.70</td>\n",
       "    </tr>\n",
       "    <tr>\n",
       "      <th>5</th>\n",
       "      <td>NEW FAMILIES</td>\n",
       "      <td>Premium</td>\n",
       "      <td>10760.80</td>\n",
       "    </tr>\n",
       "  </tbody>\n",
       "</table>\n",
       "</div>"
      ],
      "text/plain": [
       "                 LIFESTAGE PREMIUM_CUSTOMER  TOT_SALES\n",
       "6           OLDER FAMILIES           Budget  156863.75\n",
       "19   YOUNG SINGLES/COUPLES       Mainstream  147582.20\n",
       "13                RETIREES       Mainstream  145168.95\n",
       "15          YOUNG FAMILIES           Budget  129717.95\n",
       "9    OLDER SINGLES/COUPLES           Budget  127833.60\n",
       "10   OLDER SINGLES/COUPLES       Mainstream  124648.50\n",
       "11   OLDER SINGLES/COUPLES          Premium  123537.55\n",
       "12                RETIREES           Budget  105916.30\n",
       "7           OLDER FAMILIES       Mainstream   96413.55\n",
       "14                RETIREES          Premium   91296.65\n",
       "16          YOUNG FAMILIES       Mainstream   86338.25\n",
       "1   MIDAGE SINGLES/COUPLES       Mainstream   84734.25\n",
       "17          YOUNG FAMILIES          Premium   78571.70\n",
       "8           OLDER FAMILIES          Premium   75242.60\n",
       "18   YOUNG SINGLES/COUPLES           Budget   57122.10\n",
       "2   MIDAGE SINGLES/COUPLES          Premium   54443.85\n",
       "20   YOUNG SINGLES/COUPLES          Premium   39052.30\n",
       "0   MIDAGE SINGLES/COUPLES           Budget   33345.70\n",
       "3             NEW FAMILIES           Budget   20607.45\n",
       "4             NEW FAMILIES       Mainstream   15979.70\n",
       "5             NEW FAMILIES          Premium   10760.80"
      ]
     },
     "execution_count": 179,
     "metadata": {},
     "output_type": "execute_result"
    }
   ],
   "source": [
    "totalsales_cust"
   ]
  },
  {
   "cell_type": "code",
   "execution_count": 180,
   "id": "6a954132-b95f-45d3-b552-01886010d330",
   "metadata": {},
   "outputs": [
    {
     "data": {
      "image/png": "[encoded data removed]",
      "text/plain": [
       "<Figure size 1800x720 with 1 Axes>"
      ]
     },
     "metadata": {},
     "output_type": "display_data"
    }
   ],
   "source": [
    "plt.figure(figsize=(25,10))\n",
    "sns.barplot(x='LIFESTAGE',y='TOT_SALES',hue='PREMIUM_CUSTOMER',data = totalsales_cust)\n",
    "plt.title(\"Sales Distribution across lifestages clustered by membership type\")\n",
    "plt.show()"
   ]
  },
  {
   "cell_type": "code",
   "execution_count": 181,
   "id": "de6efdb2-3274-4032-afc0-67f98f2fb3bb",
   "metadata": {},
   "outputs": [],
   "source": [
    "#expenditure by lifestage\n",
    "total_cust= df_custrans.groupby(['LIFESTAGE','PREMIUM_CUSTOMER'])[['PROD_QTY']].sum().reset_index()\n",
    "total_cust = total_cust.sort_values('PROD_QTY', ascending=False)"
   ]
  },
  {
   "cell_type": "code",
   "execution_count": 193,
   "id": "e8f75e75-1a1b-4275-987d-836f807eb83a",
   "metadata": {},
   "outputs": [
    {
     "data": {
      "image/png": "[encoded data removed]",
      "text/plain": [
       "<Figure size 1800x720 with 1 Axes>"
      ]
     },
     "metadata": {},
     "output_type": "display_data"
    }
   ],
   "source": [
    "plt.figure(figsize=(25,10))\n",
    "sns.barplot(x='LIFESTAGE',y='PROD_QTY',hue='PREMIUM_CUSTOMER',data = total_cust)\n",
    "plt.title(\"Sales Distribution across product Quatity clustered by membership type\")\n",
    "plt.show()"
   ]
  },
  {
   "cell_type": "code",
   "execution_count": 183,
   "id": "e9a62190-530a-4eaf-9c95-b8bea4242a02",
   "metadata": {},
   "outputs": [],
   "source": [
    "#Buying patterns of different customers\n",
    "df_custype = df_custrans.groupby(by =['PREMIUM_CUSTOMER'], as_index=False)['TOT_SALES'].sum().sort_values(by ='TOT_SALES',ascending = False)"
   ]
  },
  {
   "cell_type": "code",
   "execution_count": 184,
   "id": "243f8018-7840-4f0b-a324-3e20af573514",
   "metadata": {},
   "outputs": [
    {
     "data": {
      "text/html": [
       "<div>\n",
       "<style scoped>\n",
       "    .dataframe tbody tr th:only-of-type {\n",
       "        vertical-align: middle;\n",
       "    }\n",
       "\n",
       "    .dataframe tbody tr th {\n",
       "        vertical-align: top;\n",
       "    }\n",
       "\n",
       "    .dataframe thead th {\n",
       "        text-align: right;\n",
       "    }\n",
       "</style>\n",
       "<table border=\"1\" class=\"dataframe\">\n",
       "  <thead>\n",
       "    <tr style=\"text-align: right;\">\n",
       "      <th></th>\n",
       "      <th>PREMIUM_CUSTOMER</th>\n",
       "      <th>TOT_SALES</th>\n",
       "    </tr>\n",
       "  </thead>\n",
       "  <tbody>\n",
       "    <tr>\n",
       "      <th>1</th>\n",
       "      <td>Mainstream</td>\n",
       "      <td>700865.40</td>\n",
       "    </tr>\n",
       "    <tr>\n",
       "      <th>0</th>\n",
       "      <td>Budget</td>\n",
       "      <td>631406.85</td>\n",
       "    </tr>\n",
       "    <tr>\n",
       "      <th>2</th>\n",
       "      <td>Premium</td>\n",
       "      <td>472905.45</td>\n",
       "    </tr>\n",
       "  </tbody>\n",
       "</table>\n",
       "</div>"
      ],
      "text/plain": [
       "  PREMIUM_CUSTOMER  TOT_SALES\n",
       "1       Mainstream  700865.40\n",
       "0           Budget  631406.85\n",
       "2          Premium  472905.45"
      ]
     },
     "execution_count": 184,
     "metadata": {},
     "output_type": "execute_result"
    }
   ],
   "source": [
    "#df_custype.set_index('PREMIUM_CUSTOMER', inplace=True)\n",
    "df_custype"
   ]
  },
  {
   "cell_type": "code",
   "execution_count": 185,
   "id": "8de266fc-ac8d-4783-9b30-2fa7a307800d",
   "metadata": {},
   "outputs": [
    {
     "data": {
      "text/plain": [
       "Text(0, 0.5, '')"
      ]
     },
     "execution_count": 185,
     "metadata": {},
     "output_type": "execute_result"
    },
    {
     "data": {
      "image/png": "[encoded data removed]",
      "text/plain": [
       "<Figure size 720x432 with 1 Axes>"
      ]
     },
     "metadata": {},
     "output_type": "display_data"
    }
   ],
   "source": [
    "plt.style.use(\"fivethirtyeight\")\n",
    "plt.title(\"Percentage of sales to customer types \")\n",
    "df_custype.set_index(\"PREMIUM_CUSTOMER\")[\"TOT_SALES\"].plot.pie(autopct='%1.1f%%',wedgeprops ={'edgecolor':'black'},shadow =True)\n",
    "plt.ylabel(None)"
   ]
  },
  {
   "cell_type": "code",
   "execution_count": 186,
   "id": "314157fc-67ef-4fd0-a51b-ccb1fe8245b4",
   "metadata": {},
   "outputs": [],
   "source": [
    "df_custpurchases= df_custrans.groupby(by =['LYLTY_CARD_NBR'], as_index=False)['PROD_QTY'].sum().sort_values(by ='PROD_QTY',ascending = False)"
   ]
  },
  {
   "cell_type": "code",
   "execution_count": 187,
   "id": "bede6039-5900-4a7f-b612-b20ea2c47785",
   "metadata": {},
   "outputs": [
    {
     "data": {
      "text/plain": [
       "248090"
      ]
     },
     "execution_count": 187,
     "metadata": {},
     "output_type": "execute_result"
    }
   ],
   "source": [
    "df_custrans[\"LYLTY_CARD_NBR\"].count()"
   ]
  },
  {
   "cell_type": "code",
   "execution_count": 188,
   "id": "24c57724-2665-4372-bd05-32ec2a9cfeb6",
   "metadata": {},
   "outputs": [
    {
     "data": {
      "text/plain": [
       "470399.0"
      ]
     },
     "execution_count": 188,
     "metadata": {},
     "output_type": "execute_result"
    }
   ],
   "source": [
    "df_custrans['PROD_QTY'].sum()"
   ]
  },
  {
   "cell_type": "code",
   "execution_count": 189,
   "id": "356667f1-f962-4a62-9b2a-c43d57b10fc1",
   "metadata": {},
   "outputs": [
    {
     "data": {
      "text/plain": [
       "False"
      ]
     },
     "execution_count": 189,
     "metadata": {},
     "output_type": "execute_result"
    }
   ],
   "source": [
    "#comparing chip purchases and customers\n",
    "df_custrans[\"LYLTY_CARD_NBR\"].count() > df_custrans['PROD_QTY'].sum()"
   ]
  },
  {
   "cell_type": "code",
   "execution_count": 190,
   "id": "54def88f-d226-4157-9404-ede1891bf1d2",
   "metadata": {},
   "outputs": [
    {
     "data": {
      "text/plain": [
       "<AxesSubplot:xlabel='Number of Transactions per brand', ylabel='Brands'>"
      ]
     },
     "execution_count": 190,
     "metadata": {},
     "output_type": "execute_result"
    },
    {
     "data": {
      "image/png": "[encoded data removed]",
      "text/plain": [
       "<Figure size 1440x720 with 1 Axes>"
      ]
     },
     "metadata": {},
     "output_type": "display_data"
    }
   ],
   "source": [
    "plt.xlabel('Number of Transactions per brand',{'fontsize':15})\n",
    "plt.ylabel('Brands',{'fontsize':15})\n",
    "df_custrans.BRAND.value_counts().sort_values().plot(kind='barh',figsize=(20,10))"
   ]
  },
  {
   "cell_type": "code",
   "execution_count": 191,
   "id": "30b29dc4-dc84-4e74-bbf8-7bb8f53290f5",
   "metadata": {},
   "outputs": [],
   "source": [
    "#Sales by brand and customer type\n",
    "totalsales_brands= df_custrans.groupby(['BRAND','PREMIUM_CUSTOMER'])[['TOT_SALES']].sum().reset_index()\n",
    "totalsales_brands = totalsales_brands.sort_values('TOT_SALES', ascending=False)"
   ]
  },
  {
   "cell_type": "code",
   "execution_count": 192,
   "id": "06dcea9d-c70e-4e50-8bd1-348a102f4d78",
   "metadata": {},
   "outputs": [
    {
     "data": {
      "image/png": "[encoded data removed]",
      "text/plain": [
       "<Figure size 2520x720 with 1 Axes>"
      ]
     },
     "metadata": {},
     "output_type": "display_data"
    }
   ],
   "source": [
    "plt.figure(figsize=(35,10))\n",
    "sns.barplot(x='BRAND',y='TOT_SALES',hue='PREMIUM_CUSTOMER',data = totalsales_brands)\n",
    "plt.title(\"Sales Distribution across Brands by Membership Type\")\n",
    "plt.show()"
   ]
  },
  {
   "cell_type": "code",
   "execution_count": null,
   "id": "1a147f3b-bef1-4942-8007-dc9c34abb8d6",
   "metadata": {},
   "outputs": [],
   "source": []
  }
 ],
 "metadata": {
  "kernelspec": {
   "display_name": "Python 3 (ipykernel)",
   "language": "python",
   "name": "python3"
  },
  "language_info": {
   "codemirror_mode": {
    "name": "ipython",
    "version": 3
   },
   "file_extension": ".py",
   "mimetype": "text/x-python",
   "name": "python",
   "nbconvert_exporter": "python",
   "pygments_lexer": "ipython3",
   "version": "3.8.12"
  }
 },
 "nbformat": 4,
 "nbformat_minor": 5
}
